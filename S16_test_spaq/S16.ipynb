{
 "cells": [
  {
   "cell_type": "code",
   "execution_count": 13,
   "metadata": {},
   "outputs": [
    {
     "data": {
      "text/plain": [
       "(-0.3369615411989142, -0.31079259594045033, -0.23766989273624328)"
      ]
     },
     "execution_count": 13,
     "metadata": {},
     "output_type": "execute_result"
    }
   ],
   "source": [
    "from scipy import stats\n",
    "from scipy.stats import pearsonr, kendalltau\n",
    "\n",
    "srcc = stats.spearmanr( [0.6480761, 0.62233955, 0.6661059, 0.631339, 0.6192408, 0.641552, 0.6423639, 0.7225227, 0.65772206, 0.63077545, 0.54655486  , 0.6763791, 0.62823856, 0.63159883, 0.62590545, 0.65006614, 0.6068853, 0.63621056, 0.5723472, 0.6442189, 0.62065214, 0.67560524, 0.6549503, 0.61165047], [0.062, 0.032, 0.029, 0.028, 0.027, 0.104, 0.028, 0.006, 0.033, 0.088, 0.052, 0.014, 0.029, 0.032, 0.022, 0.0, 0.012, 0.04, 0.051, 0.003, 0.032, 0.031, 0.019, 0.042])\n",
    "srcc0 = pearsonr( [0.6480761, 0.62233955, 0.6661059, 0.631339, 0.6192408, 0.641552, 0.6423639, 0.7225227, 0.65772206, 0.63077545, 0.54655486  , 0.6763791, 0.62823856, 0.63159883, 0.62590545, 0.65006614, 0.6068853, 0.63621056, 0.5723472, 0.6442189, 0.62065214, 0.67560524, 0.6549503, 0.61165047], [0.062, 0.032, 0.029, 0.028, 0.027, 0.104, 0.028, 0.006, 0.033, 0.088, 0.052, 0.014, 0.029, 0.032, 0.022, 0.0, 0.012, 0.04, 0.051, 0.003, 0.032, 0.031, 0.019, 0.042])\n",
    "srcc1 = kendalltau( [0.6480761, 0.62233955, 0.6661059, 0.631339, 0.6192408, 0.641552, 0.6423639, 0.7225227, 0.65772206, 0.63077545, 0.54655486  , 0.6763791, 0.62823856, 0.63159883, 0.62590545, 0.65006614, 0.6068853, 0.63621056, 0.5723472, 0.6442189, 0.62065214, 0.67560524, 0.6549503, 0.61165047], [0.062, 0.032, 0.029, 0.028, 0.027, 0.104, 0.028, 0.006, 0.033, 0.088, 0.052, 0.014, 0.029, 0.032, 0.022, 0.0, 0.012, 0.04, 0.051, 0.003, 0.032, 0.031, 0.019, 0.042])\n",
    "\n",
    "srcc[0],srcc0[0],srcc1[0]"
   ]
  },
  {
   "cell_type": "code",
   "execution_count": 2,
   "metadata": {},
   "outputs": [
    {
     "name": "stdout",
     "output_type": "stream",
     "text": [
      "NVIDIA GeForce GTX 1050\n",
      "True\n"
     ]
    }
   ],
   "source": [
    "import torch\n",
    "print(torch.cuda.get_device_name(0))\n",
    "print(torch.cuda.is_available())\n"
   ]
  },
  {
   "cell_type": "code",
   "execution_count": 3,
   "metadata": {},
   "outputs": [
    {
     "name": "stdout",
     "output_type": "stream",
     "text": [
      "d:\\quality_assessment\\knowledge_distillation\\cvr-iqa\\CVRKD-IQA\n"
     ]
    }
   ],
   "source": [
    "%cd ..\n"
   ]
  },
  {
   "cell_type": "code",
   "execution_count": 4,
   "metadata": {},
   "outputs": [
    {
     "name": "stdout",
     "output_type": "stream",
     "text": [
      "normal mode...\n",
      ">>>>>  ./model_zoo/NAR_student_cross_dataset.pth\n"
     ]
    }
   ],
   "source": [
    "from test_DistillationIQA_single import DistillationIQASolver\n",
    "\n",
    "\n",
    "obj_org = DistillationIQASolver(net_mode=\"org\",student_address='./model_zoo/NAR_student_cross_dataset.pth')"
   ]
  },
  {
   "cell_type": "code",
   "execution_count": 5,
   "metadata": {},
   "outputs": [
    {
     "name": "stdout",
     "output_type": "stream",
     "text": [
      "stacking modeV1...\n",
      ">>>>>  ./model_zoo/stacking_ep98_saved_student_model.pth\n"
     ]
    }
   ],
   "source": [
    "obj_stackV1 = DistillationIQASolver(net_mode=\"stackingV1\",student_address='./model_zoo/stacking_ep98_saved_student_model.pth')"
   ]
  },
  {
   "cell_type": "code",
   "execution_count": 6,
   "metadata": {},
   "outputs": [
    {
     "name": "stdout",
     "output_type": "stream",
     "text": [
      "stacking modeV2(combined)...\n",
      ">>>>>  ./model_zoo/stackingV2-ep70.pth\n"
     ]
    }
   ],
   "source": [
    "obj_stackV2 = DistillationIQASolver(net_mode=\"stackingV2\",student_address='./model_zoo/stackingV2-ep70.pth')"
   ]
  },
  {
   "cell_type": "code",
   "execution_count": 7,
   "metadata": {},
   "outputs": [
    {
     "data": {
      "text/plain": [
       "(2.449223279953003, 2.6805977821350098, 2.5710458755493164)"
      ]
     },
     "execution_count": 7,
     "metadata": {},
     "output_type": "execute_result"
    }
   ],
   "source": [
    "\n",
    "obj_org.cvr_on_single_image(\"tst_imgs/i01_19_4.bmp\" , \"tst_imgs/i01_23_1.bmp\"),obj_stackV1.cvr_on_single_image(\"tst_imgs/i01_19_4.bmp\" , \"tst_imgs/i01_23_1.bmp\"),obj_stackV2.cvr_on_single_image(\"tst_imgs/i01_19_4.bmp\" , \"tst_imgs/i01_23_1.bmp\")"
   ]
  },
  {
   "cell_type": "markdown",
   "metadata": {},
   "source": [
    "# Correlation\n"
   ]
  },
  {
   "cell_type": "markdown",
   "metadata": {},
   "source": [
    "# dst:"
   ]
  },
  {
   "cell_type": "code",
   "execution_count": 8,
   "metadata": {},
   "outputs": [
    {
     "data": {
      "text/plain": [
       "'D:\\\\quality_assessment\\\\knowledge_distillation\\\\cvr-iqa\\\\CVRKD-IQA\\\\dataset\\\\DIV2K_ref/val_HR\\\\0899.png'"
      ]
     },
     "execution_count": 8,
     "metadata": {},
     "output_type": "execute_result"
    }
   ],
   "source": [
    "import random , glob\n",
    "\n",
    "def get_random_HR_images():\n",
    "    all_images = glob.glob('D:\\quality_assessment\\knowledge_distillation\\cvr-iqa\\CVRKD-IQA\\dataset\\DIV2K_ref/val_HR/*')\n",
    "    return random.sample(all_images, 1)[0]\n",
    "\n",
    "\n",
    "get_random_HR_images()"
   ]
  },
  {
   "cell_type": "markdown",
   "metadata": {},
   "source": [
    "all imgs\n"
   ]
  },
  {
   "cell_type": "code",
   "execution_count": 9,
   "metadata": {},
   "outputs": [
    {
     "data": {
      "text/plain": [
       "11125"
      ]
     },
     "execution_count": 9,
     "metadata": {},
     "output_type": "execute_result"
    }
   ],
   "source": [
    "import cv2\n",
    "\n",
    "SPAQ_ADDRESS = \"E:\\SPAQ\"\n",
    "\n",
    "len(glob.glob(SPAQ_ADDRESS+\"/SPAQ/TestImage/*.jpg\"))\n"
   ]
  },
  {
   "cell_type": "code",
   "execution_count": 14,
   "metadata": {},
   "outputs": [
    {
     "data": {
      "text/plain": [
       "('00016.jpg', 76.14)"
      ]
     },
     "execution_count": 14,
     "metadata": {},
     "output_type": "execute_result"
    }
   ],
   "source": [
    "import pandas as pd\n",
    "\n",
    "def read_excel_column(file_path, column_name):\n",
    "    df = pd.read_excel(file_path)\n",
    "    return df[column_name]\n",
    "\n",
    "names = read_excel_column(SPAQ_ADDRESS+\"/MOS and Image attribute scores.xlsx\" , \"Image name\")[:50]\n",
    "moses = read_excel_column(SPAQ_ADDRESS+\"/MOS and Image attribute scores.xlsx\" , \"MOS\")[:50]\n",
    "\n",
    "\n",
    "names[15], moses[15]"
   ]
  },
  {
   "cell_type": "code",
   "execution_count": 23,
   "metadata": {},
   "outputs": [
    {
     "name": "stdout",
     "output_type": "stream",
     "text": [
      "num of imgs: 50\n",
      "org...\n"
     ]
    },
    {
     "name": "stderr",
     "output_type": "stream",
     "text": [
      "100%|██████████| 50/50 [00:30<00:00,  1.62it/s]\n"
     ]
    },
    {
     "name": "stdout",
     "output_type": "stream",
     "text": [
      "round 1:  0.1607241470846721 0.17548679743954732 0.11596570995350598\n"
     ]
    },
    {
     "name": "stderr",
     "output_type": "stream",
     "text": [
      "100%|██████████| 50/50 [00:28<00:00,  1.73it/s]\n"
     ]
    },
    {
     "name": "stdout",
     "output_type": "stream",
     "text": [
      "round 2:  0.1385387404658736 0.17250167786067064 0.1028991510855053\n"
     ]
    },
    {
     "name": "stderr",
     "output_type": "stream",
     "text": [
      "100%|██████████| 50/50 [00:29<00:00,  1.67it/s]"
     ]
    },
    {
     "name": "stdout",
     "output_type": "stream",
     "text": [
      "round 3:  0.12783020004164838 0.20629401430302896 0.09799919151000505\n"
     ]
    },
    {
     "name": "stderr",
     "output_type": "stream",
     "text": [
      "\n"
     ]
    }
   ],
   "source": [
    "from tqdm import tqdm\n",
    "print(\"num of imgs:\", len(names))\n",
    "print(\"org...\")\n",
    "for j in range(3):\n",
    "    preds = []\n",
    "    for im in tqdm(names):\n",
    "        try:\n",
    "            rr = obj_org.cvr_on_single_image(SPAQ_ADDRESS+\"/SPAQ/TestImage/\"+im , get_random_HR_images())\n",
    "            preds.append(rr)\n",
    "        except:\n",
    "            print(\">>>>> \",im)\n",
    "            preds.append(50)\n",
    "    \n",
    "    print(\"round \"+str(j+1)+\": \",stats.spearmanr( preds , moses)[0] , pearsonr(preds, moses)[0] , kendalltau(preds, moses)[0])\n",
    "\n",
    "\n",
    "\n"
   ]
  },
  {
   "cell_type": "code",
   "execution_count": 21,
   "metadata": {},
   "outputs": [
    {
     "name": "stdout",
     "output_type": "stream",
     "text": [
      "stackingV1...\n"
     ]
    },
    {
     "name": "stderr",
     "output_type": "stream",
     "text": [
      "100%|██████████| 50/50 [00:30<00:00,  1.65it/s]\n"
     ]
    },
    {
     "name": "stdout",
     "output_type": "stream",
     "text": [
      "round 1:  0.33071622377416693 0.27370375627723154 0.2466312986335127\n"
     ]
    },
    {
     "name": "stderr",
     "output_type": "stream",
     "text": [
      "100%|██████████| 50/50 [00:32<00:00,  1.56it/s]\n"
     ]
    },
    {
     "name": "stdout",
     "output_type": "stream",
     "text": [
      "round 2:  0.2991668468292522 0.23849410257182002 0.2188648610390113\n"
     ]
    },
    {
     "name": "stderr",
     "output_type": "stream",
     "text": [
      "100%|██████████| 50/50 [00:30<00:00,  1.64it/s]"
     ]
    },
    {
     "name": "stdout",
     "output_type": "stream",
     "text": [
      "round 3:  0.3426732935752077 0.3102338728986237 0.27439773622801417\n"
     ]
    },
    {
     "name": "stderr",
     "output_type": "stream",
     "text": [
      "\n"
     ]
    }
   ],
   "source": [
    "print(\"stackingV1...\")\n",
    "for j in range(3):\n",
    "    preds = []\n",
    "    for im in tqdm(names):\n",
    "        try:\n",
    "            rr = obj_stackV1.cvr_on_single_image(SPAQ_ADDRESS+\"/SPAQ/TestImage/\"+im , get_random_HR_images())\n",
    "            preds.append(rr)\n",
    "        except:\n",
    "            print(\">>>>> \",im)\n",
    "            preds.append(50)\n",
    "    \n",
    "    print(\"round \"+str(j+1)+\": \",stats.spearmanr( preds , moses)[0] , pearsonr(preds, moses)[0] , kendalltau(preds, moses)[0])\n",
    "\n",
    "\n"
   ]
  },
  {
   "cell_type": "code",
   "execution_count": 22,
   "metadata": {},
   "outputs": [
    {
     "name": "stdout",
     "output_type": "stream",
     "text": [
      "stackingV2...\n"
     ]
    },
    {
     "name": "stderr",
     "output_type": "stream",
     "text": [
      "100%|██████████| 50/50 [00:31<00:00,  1.57it/s]\n"
     ]
    },
    {
     "name": "stdout",
     "output_type": "stream",
     "text": [
      "round 1:  0.3042570050578077 0.33771587216632015 0.2074316220295107\n"
     ]
    },
    {
     "name": "stderr",
     "output_type": "stream",
     "text": [
      "100%|██████████| 50/50 [00:31<00:00,  1.58it/s]\n"
     ]
    },
    {
     "name": "stdout",
     "output_type": "stream",
     "text": [
      "round 2:  0.30492929010686215 0.3522372235461141 0.21559822132201112\n"
     ]
    },
    {
     "name": "stderr",
     "output_type": "stream",
     "text": [
      "100%|██████████| 50/50 [00:31<00:00,  1.61it/s]"
     ]
    },
    {
     "name": "stdout",
     "output_type": "stream",
     "text": [
      "round 3:  0.48025162682814626 0.4893495733133367 0.3544304092945183\n"
     ]
    },
    {
     "name": "stderr",
     "output_type": "stream",
     "text": [
      "\n"
     ]
    }
   ],
   "source": [
    "\n",
    "\n",
    "\n",
    "\n",
    "print(\"stackingV2...\")\n",
    "for j in range(3):\n",
    "    preds = []\n",
    "    for im in tqdm(names):\n",
    "        try:\n",
    "            rr = obj_stackV2.cvr_on_single_image(SPAQ_ADDRESS+\"/SPAQ/TestImage/\"+im , get_random_HR_images())\n",
    "            preds.append(rr)\n",
    "        except:\n",
    "            print(\">>>>> \",im)\n",
    "            preds.append(50)\n",
    "    \n",
    "    print(\"round \"+str(j+1)+\": \",stats.spearmanr( preds , moses)[0] , pearsonr(preds, moses)[0] , kendalltau(preds, moses)[0])\n",
    "\n",
    "\n"
   ]
  }
 ],
 "metadata": {
  "kernelspec": {
   "display_name": "gputest",
   "language": "python",
   "name": "python3"
  },
  "language_info": {
   "codemirror_mode": {
    "name": "ipython",
    "version": 3
   },
   "file_extension": ".py",
   "mimetype": "text/x-python",
   "name": "python",
   "nbconvert_exporter": "python",
   "pygments_lexer": "ipython3",
   "version": "3.9.18"
  },
  "orig_nbformat": 4
 },
 "nbformat": 4,
 "nbformat_minor": 2
}

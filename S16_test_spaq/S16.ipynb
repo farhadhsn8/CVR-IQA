{
 "cells": [
  {
   "cell_type": "code",
   "execution_count": 1,
   "metadata": {},
   "outputs": [
    {
     "data": {
      "text/plain": [
       "(-0.3369615411989142, -0.31079259594045033, -0.23766989273624328)"
      ]
     },
     "execution_count": 1,
     "metadata": {},
     "output_type": "execute_result"
    }
   ],
   "source": [
    "from scipy import stats\n",
    "from scipy.stats import pearsonr, kendalltau\n",
    "\n",
    "srcc = stats.spearmanr( [0.6480761, 0.62233955, 0.6661059, 0.631339, 0.6192408, 0.641552, 0.6423639, 0.7225227, 0.65772206, 0.63077545, 0.54655486  , 0.6763791, 0.62823856, 0.63159883, 0.62590545, 0.65006614, 0.6068853, 0.63621056, 0.5723472, 0.6442189, 0.62065214, 0.67560524, 0.6549503, 0.61165047], [0.062, 0.032, 0.029, 0.028, 0.027, 0.104, 0.028, 0.006, 0.033, 0.088, 0.052, 0.014, 0.029, 0.032, 0.022, 0.0, 0.012, 0.04, 0.051, 0.003, 0.032, 0.031, 0.019, 0.042])\n",
    "srcc0 = pearsonr( [0.6480761, 0.62233955, 0.6661059, 0.631339, 0.6192408, 0.641552, 0.6423639, 0.7225227, 0.65772206, 0.63077545, 0.54655486  , 0.6763791, 0.62823856, 0.63159883, 0.62590545, 0.65006614, 0.6068853, 0.63621056, 0.5723472, 0.6442189, 0.62065214, 0.67560524, 0.6549503, 0.61165047], [0.062, 0.032, 0.029, 0.028, 0.027, 0.104, 0.028, 0.006, 0.033, 0.088, 0.052, 0.014, 0.029, 0.032, 0.022, 0.0, 0.012, 0.04, 0.051, 0.003, 0.032, 0.031, 0.019, 0.042])\n",
    "srcc1 = kendalltau( [0.6480761, 0.62233955, 0.6661059, 0.631339, 0.6192408, 0.641552, 0.6423639, 0.7225227, 0.65772206, 0.63077545, 0.54655486  , 0.6763791, 0.62823856, 0.63159883, 0.62590545, 0.65006614, 0.6068853, 0.63621056, 0.5723472, 0.6442189, 0.62065214, 0.67560524, 0.6549503, 0.61165047], [0.062, 0.032, 0.029, 0.028, 0.027, 0.104, 0.028, 0.006, 0.033, 0.088, 0.052, 0.014, 0.029, 0.032, 0.022, 0.0, 0.012, 0.04, 0.051, 0.003, 0.032, 0.031, 0.019, 0.042])\n",
    "\n",
    "srcc[0],srcc0[0],srcc1[0]"
   ]
  },
  {
   "cell_type": "code",
   "execution_count": 2,
   "metadata": {},
   "outputs": [
    {
     "name": "stdout",
     "output_type": "stream",
     "text": [
      "NVIDIA GeForce GTX 1050\n",
      "True\n"
     ]
    }
   ],
   "source": [
    "import torch\n",
    "print(torch.cuda.get_device_name(0))\n",
    "print(torch.cuda.is_available())\n"
   ]
  },
  {
   "cell_type": "code",
   "execution_count": 3,
   "metadata": {},
   "outputs": [
    {
     "name": "stdout",
     "output_type": "stream",
     "text": [
      "d:\\quality_assessment\\knowledge_distillation\\cvr-iqa\\CVRKD-IQA\n"
     ]
    }
   ],
   "source": [
    "%cd ..\n"
   ]
  },
  {
   "cell_type": "code",
   "execution_count": 4,
   "metadata": {},
   "outputs": [
    {
     "name": "stdout",
     "output_type": "stream",
     "text": [
      "normal mode...\n",
      ">>>>>  ./model_zoo/NAR_student_cross_dataset.pth\n"
     ]
    }
   ],
   "source": [
    "from test_DistillationIQA_single import DistillationIQASolver\n",
    "\n",
    "\n",
    "obj_org = DistillationIQASolver(net_mode=\"org\",student_address='./model_zoo/NAR_student_cross_dataset.pth')"
   ]
  },
  {
   "cell_type": "code",
   "execution_count": 5,
   "metadata": {},
   "outputs": [
    {
     "name": "stdout",
     "output_type": "stream",
     "text": [
      "stacking modeV1...\n",
      ">>>>>  ./model_zoo/stacking_ep98_saved_student_model.pth\n"
     ]
    }
   ],
   "source": [
    "obj_stackV1 = DistillationIQASolver(net_mode=\"stackingV1\",student_address='./model_zoo/stacking_ep98_saved_student_model.pth')"
   ]
  },
  {
   "cell_type": "code",
   "execution_count": 6,
   "metadata": {},
   "outputs": [
    {
     "name": "stdout",
     "output_type": "stream",
     "text": [
      "stacking modeV2(combined)...\n",
      ">>>>>  ./model_zoo/stackingV2-ep70.pth\n"
     ]
    }
   ],
   "source": [
    "obj_stackV2 = DistillationIQASolver(net_mode=\"stackingV2\",student_address='./model_zoo/stackingV2-ep70.pth')"
   ]
  },
  {
   "cell_type": "code",
   "execution_count": 7,
   "metadata": {},
   "outputs": [
    {
     "name": "stdout",
     "output_type": "stream",
     "text": [
      "stacking modeV2(combined)...\n",
      ">>>>>  ./model_zoo/4loss_ep+26_5.pth\n"
     ]
    }
   ],
   "source": [
    "obj_4loss = DistillationIQASolver(net_mode=\"stackingV2\",student_address='./model_zoo/4loss_ep+26_5.pth')"
   ]
  },
  {
   "cell_type": "markdown",
   "metadata": {},
   "source": [
    "# dst:"
   ]
  },
  {
   "cell_type": "code",
   "execution_count": 9,
   "metadata": {},
   "outputs": [
    {
     "data": {
      "text/plain": [
       "'D:\\\\quality_assessment\\\\knowledge_distillation\\\\cvr-iqa\\\\CVRKD-IQA\\\\dataset\\\\DIV2K_ref/val_HR\\\\0853.png'"
      ]
     },
     "execution_count": 9,
     "metadata": {},
     "output_type": "execute_result"
    }
   ],
   "source": [
    "import random , glob\n",
    "\n",
    "def get_random_HR_images():\n",
    "    all_images = glob.glob('D:\\quality_assessment\\knowledge_distillation\\cvr-iqa\\CVRKD-IQA\\dataset\\DIV2K_ref/val_HR/*')\n",
    "    return random.sample(all_images, 1)[0]\n",
    "\n",
    "\n",
    "get_random_HR_images()"
   ]
  },
  {
   "cell_type": "markdown",
   "metadata": {},
   "source": [
    "all imgs\n"
   ]
  },
  {
   "cell_type": "code",
   "execution_count": 27,
   "metadata": {},
   "outputs": [
    {
     "data": {
      "text/plain": [
       "0.33071891388307384"
      ]
     },
     "execution_count": 27,
     "metadata": {},
     "output_type": "execute_result"
    }
   ],
   "source": [
    "def calculate_std(data):\n",
    "    if len(data) == 0:\n",
    "        return 0\n",
    "    mean = sum(data) / len(data)\n",
    "    variance = sum((x - mean) ** 2 for x in data) / len(data)\n",
    "    std = variance ** 0.5\n",
    "    return std\n",
    "\n",
    "\n",
    "\n",
    "calculate_std([11,11,11,11,11,11,11,10])"
   ]
  },
  {
   "cell_type": "code",
   "execution_count": 18,
   "metadata": {},
   "outputs": [
    {
     "data": {
      "text/plain": [
       "3000"
      ]
     },
     "execution_count": 18,
     "metadata": {},
     "output_type": "execute_result"
    }
   ],
   "source": [
    "import glob\n",
    "\n",
    "all_tid_images = glob.glob(\"dataset/TID2013/distorted_images/*.bmp\")\n",
    "len(all_tid_images)"
   ]
  },
  {
   "cell_type": "code",
   "execution_count": 35,
   "metadata": {},
   "outputs": [
    {
     "data": {
      "text/plain": [
       "0.09795001094733063"
      ]
     },
     "execution_count": 35,
     "metadata": {},
     "output_type": "execute_result"
    }
   ],
   "source": [
    "li = []\n",
    "\n",
    "for i in range(10):\n",
    "    li.append(obj_stackV2.cvr_on_single_image(all_tid_images[764] ,get_random_HR_images()))\n",
    "\n",
    "calculate_std(li)\n"
   ]
  },
  {
   "cell_type": "code",
   "execution_count": 38,
   "metadata": {},
   "outputs": [
    {
     "name": "stderr",
     "output_type": "stream",
     "text": [
      "100%|██████████| 3000/3000 [25:39<00:00,  1.95it/s]\n",
      " 19%|█▉        | 579/3000 [07:15<45:50,  1.14s/it]  "
     ]
    }
   ],
   "source": [
    "import random\n",
    "import string\n",
    "from tqdm import tqdm\n",
    "\n",
    "\n",
    "def generate_random_filename(num,extension=\".txt\"):\n",
    "    letters = string.ascii_lowercase\n",
    "    random_name = \"\".join(random.choice(letters) for i in range(8))\n",
    "    return str(num)+\"_\"+random_name + extension\n",
    "\n",
    "\n",
    "for i in range(2):\n",
    "    random_filename = generate_random_filename(i)\n",
    "    with open(random_filename, 'w') as file:\n",
    "        for im in tqdm(all_tid_images):\n",
    "            sc = obj_stackV2.cvr_on_single_image(im ,get_random_HR_images())\n",
    "            file.write(f\"{sc:.3f} {im}\\n\")\n",
    "            \n",
    "\n"
   ]
  }
 ],
 "metadata": {
  "kernelspec": {
   "display_name": "gputest",
   "language": "python",
   "name": "python3"
  },
  "language_info": {
   "codemirror_mode": {
    "name": "ipython",
    "version": 3
   },
   "file_extension": ".py",
   "mimetype": "text/x-python",
   "name": "python",
   "nbconvert_exporter": "python",
   "pygments_lexer": "ipython3",
   "version": "3.9.18"
  },
  "orig_nbformat": 4
 },
 "nbformat": 4,
 "nbformat_minor": 2
}

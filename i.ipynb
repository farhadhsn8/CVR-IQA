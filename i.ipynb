{
 "cells": [
  {
   "cell_type": "code",
   "execution_count": 2,
   "metadata": {},
   "outputs": [
    {
     "name": "stdout",
     "output_type": "stream",
     "text": [
      "torch.Size([2, 6, 4])\n"
     ]
    }
   ],
   "source": [
    "\n",
    "# %% cell 1\n",
    "\n",
    "import torch\n",
    "\n",
    "# Create two tensors to concatenate\n",
    "tensor1 = torch.randn(2, 3, 4)\n",
    "tensor2 = torch.randn(2, 3, 4)\n",
    "\n",
    "# Concatenate the tensors along the second axis\n",
    "concatenated_tensor = torch.cat((tensor1, tensor2), dim=1)\n",
    "print(concatenated_tensor.size())\n",
    "\n",
    "\n",
    "\n"
   ]
  },
  {
   "cell_type": "code",
   "execution_count": 1,
   "metadata": {},
   "outputs": [
    {
     "name": "stdout",
     "output_type": "stream",
     "text": [
      "initialize DistillationIQANet(normal mode)... \n",
      "\n",
      "initialize DistillationStudent_interAndIntraImageFeatureFusion... \n",
      "\n",
      "after lq  torch.Size([1, 40, 448, 448])\n",
      "after hq  torch.Size([1, 64, 56, 2240])\n",
      "after2 lq  torch.Size([1, 640, 7, 7])\n",
      "after2 hq  torch.Size([1, 640, 7, 7])\n",
      "after lq  torch.Size([1, 80, 224, 224])\n",
      "after hq  torch.Size([1, 64, 28, 2240])\n",
      "after2 lq  torch.Size([1, 640, 7, 7])\n",
      "after2 hq  torch.Size([1, 640, 7, 7])\n",
      "after lq  torch.Size([1, 160, 112, 112])\n",
      "after hq  torch.Size([1, 64, 14, 2240])\n",
      "after2 lq  torch.Size([1, 640, 7, 7])\n",
      "after2 hq  torch.Size([1, 640, 7, 7])\n",
      "after lq  torch.Size([1, 320, 56, 56])\n",
      "after hq  torch.Size([1, 64, 7, 2240])\n",
      "after2 lq  torch.Size([1, 640, 7, 7])\n",
      "after2 hq  torch.Size([1, 640, 7, 7])\n"
     ]
    },
    {
     "data": {
      "text/plain": [
       "0.0022319515701383352"
      ]
     },
     "execution_count": 1,
     "metadata": {},
     "output_type": "execute_result"
    }
   ],
   "source": [
    "from test_DistillationIQA_single import cvr_on_single_image\n",
    "\n",
    "cvr_on_single_image(\"tst_imgs/i01_19_4.bmp\" , \"tst_imgs/i01_23_1.bmp\")"
   ]
  },
  {
   "cell_type": "code",
   "execution_count": 3,
   "metadata": {},
   "outputs": [
    {
     "data": {
      "text/plain": [
       "(8028160, 8028160)"
      ]
     },
     "execution_count": 3,
     "metadata": {},
     "output_type": "execute_result"
    }
   ],
   "source": [
    "10 * 256 * 56 * 56  ,  1 * 256 * 160 * 196"
   ]
  },
  {
   "cell_type": "code",
   "execution_count": 16,
   "metadata": {},
   "outputs": [
    {
     "name": "stdout",
     "output_type": "stream",
     "text": [
      "Original size: tensor([[[[-1.7420]],\n",
      "\n",
      "         [[-0.6089]]]])\n",
      "Expanded size: tensor([[[[-1.7420]],\n",
      "\n",
      "         [[-0.6089]],\n",
      "\n",
      "         [[-1.7420]],\n",
      "\n",
      "         [[-0.6089]],\n",
      "\n",
      "         [[-1.7420]],\n",
      "\n",
      "         [[-0.6089]]]])\n"
     ]
    }
   ],
   "source": [
    "import torch\n",
    "\n",
    "# Assuming your original tensor is named original_tensor\n",
    "original_tensor = torch.randn(1, 2, 1, 1)\n",
    "\n",
    "# Define the desired size\n",
    "desired_size = torch.Size([1, 3, 1, 1])\n",
    "\n",
    "# Use the repeat method to achieve the desired size\n",
    "expanded_tensor = original_tensor.repeat(1, 3, 1, 1)  # Repeat along dimension 1\n",
    "\n",
    "# Print the sizes for verification\n",
    "print(\"Original size:\", original_tensor)\n",
    "print(\"Expanded size:\", expanded_tensor)"
   ]
  },
  {
   "cell_type": "code",
   "execution_count": 20,
   "metadata": {},
   "outputs": [
    {
     "data": {
      "text/plain": [
       "9.877551020408163"
      ]
     },
     "execution_count": 20,
     "metadata": {},
     "output_type": "execute_result"
    }
   ],
   "source": [
    "(22 * 22 ) / 49"
   ]
  },
  {
   "cell_type": "code",
   "execution_count": 2,
   "metadata": {},
   "outputs": [
    {
     "name": "stdout",
     "output_type": "stream",
     "text": [
      "torch.Size([1, 1024]) torch.Size([1, 512])\n"
     ]
    }
   ],
   "source": [
    "\n",
    "import torch\n",
    "import torch.nn as nn\n",
    "\n",
    "class FeatureSelectionTransformer(nn.Module):\n",
    "    def __init__(self, input_dim=1024, output_dim=512):\n",
    "        super(FeatureSelectionTransformer, self).__init__()\n",
    "        self.fc = nn.Linear(input_dim, output_dim)\n",
    "\n",
    "    def forward(self, x):\n",
    "        return self.fc(x)\n",
    "\n",
    "transformer = FeatureSelectionTransformer()\n",
    "\n",
    "\n",
    "random_tensor = torch.randn(1, 1024)\n",
    "transformed_tensor = transformer(random_tensor)\n",
    "print(random_tensor.shape,transformed_tensor.shape)\n",
    "\n",
    "\n",
    "\n",
    "\n"
   ]
  },
  {
   "cell_type": "code",
   "execution_count": 4,
   "metadata": {},
   "outputs": [
    {
     "data": {
      "text/plain": [
       "(5, 6, 0, 0)"
      ]
     },
     "execution_count": 4,
     "metadata": {},
     "output_type": "execute_result"
    }
   ],
   "source": [
    "a,b,c,d = 0,0,0,0\n",
    "try:\n",
    "    a = 5\n",
    "    b = 6\n",
    "    c = 4 / 0 \n",
    "    d = 7\n",
    "except:\n",
    "    pass\n",
    "\n",
    "\n",
    "a,b,c,d"
   ]
  }
 ],
 "metadata": {
  "kernelspec": {
   "display_name": "gpu",
   "language": "python",
   "name": "python3"
  },
  "language_info": {
   "codemirror_mode": {
    "name": "ipython",
    "version": 3
   },
   "file_extension": ".py",
   "mimetype": "text/x-python",
   "name": "python",
   "nbconvert_exporter": "python",
   "pygments_lexer": "ipython3",
   "version": "3.10.13"
  }
 },
 "nbformat": 4,
 "nbformat_minor": 2
}

{
 "cells": [
  {
   "cell_type": "code",
   "execution_count": 1,
   "metadata": {},
   "outputs": [
    {
     "data": {
      "text/plain": [
       "-0.3369615411989142"
      ]
     },
     "execution_count": 1,
     "metadata": {},
     "output_type": "execute_result"
    }
   ],
   "source": [
    "from scipy import stats\n",
    "srcc = stats.spearmanr( [0.6480761, 0.62233955, 0.6661059, 0.631339, 0.6192408, 0.641552, 0.6423639, 0.7225227, 0.65772206, 0.63077545, 0.54655486  , 0.6763791, 0.62823856, 0.63159883, 0.62590545, 0.65006614, 0.6068853, 0.63621056, 0.5723472, 0.6442189, 0.62065214, 0.67560524, 0.6549503, 0.61165047], [0.062, 0.032, 0.029, 0.028, 0.027, 0.104, 0.028, 0.006, 0.033, 0.088, 0.052, 0.014, 0.029, 0.032, 0.022, 0.0, 0.012, 0.04, 0.051, 0.003, 0.032, 0.031, 0.019, 0.042])\n",
    "srcc[0]"
   ]
  },
  {
   "cell_type": "code",
   "execution_count": 2,
   "metadata": {},
   "outputs": [
    {
     "name": "stdout",
     "output_type": "stream",
     "text": [
      "NVIDIA GeForce GTX 1050\n",
      "True\n"
     ]
    }
   ],
   "source": [
    "import torch\n",
    "print(torch.cuda.get_device_name(0))\n",
    "print(torch.cuda.is_available())\n"
   ]
  },
  {
   "cell_type": "code",
   "execution_count": 3,
   "metadata": {},
   "outputs": [
    {
     "name": "stdout",
     "output_type": "stream",
     "text": [
      "d:\\quality_assessment\\knowledge_distillation\\cvr-iqa\\CVRKD-IQA\n"
     ]
    }
   ],
   "source": [
    "%cd ..\n"
   ]
  },
  {
   "cell_type": "code",
   "execution_count": 4,
   "metadata": {},
   "outputs": [
    {
     "name": "stdout",
     "output_type": "stream",
     "text": [
      "normal mode...\n",
      ">>>>>  ./model_zoo/NAR_student_cross_dataset.pth\n"
     ]
    }
   ],
   "source": [
    "from test_DistillationIQA_single import cvr_on_single_image\n",
    "\n"
   ]
  },
  {
   "cell_type": "code",
   "execution_count": 5,
   "metadata": {},
   "outputs": [
    {
     "data": {
      "text/plain": [
       "2.545132875442505"
      ]
     },
     "execution_count": 5,
     "metadata": {},
     "output_type": "execute_result"
    }
   ],
   "source": [
    "\n",
    "cvr_on_single_image(\"tst_imgs/i01_19_4.bmp\" , \"tst_imgs/i01_23_1.bmp\")"
   ]
  },
  {
   "cell_type": "markdown",
   "metadata": {},
   "source": [
    "# Correlation\n"
   ]
  },
  {
   "cell_type": "markdown",
   "metadata": {},
   "source": [
    "# dst:"
   ]
  },
  {
   "cell_type": "code",
   "execution_count": 6,
   "metadata": {},
   "outputs": [],
   "source": [
    "import glob\n",
    "\n",
    "TID_ADDR = \"D:\\quality_assessment\\knowledge_distillation\\cvr-iqa\\CVRKD-IQA\\dataset\\TID2013\"\n",
    "dsts = [\"01\",\"02\",\"03\",\"04\",\"05\",\"06\",\"07\",\"08\",\"09\" , \"10\", \"11\", \"12\", \"13\", \"14\", \"15\", \"16\", \"17\", \"18\", \"19\",\"20\",\"21\",\"22\",\"23\",\"24\"]\n",
    "\n",
    "\n",
    "def get_images_dst(dst_type):\n",
    "    imgs = glob.glob(TID_ADDR+'/distorted_images/*_'+ dst_type +'_'+ '*' +'.*')\n",
    "    return imgs\n",
    "\n",
    "def get_mos_dst(dst_type ):\n",
    "    mos = []\n",
    "    f = open(TID_ADDR+\"/mos_with_names.txt\", \"r\")\n",
    "    lines = f.readlines()\n",
    "    for l in lines:\n",
    "        if l.split(' ')[1].split('_')[1] == dst_type:\n",
    "            mos.append(float(l.split(' ')[0][:5]))\n",
    "\n",
    "    return mos\n",
    "\n",
    "\n",
    "refs = glob.glob(TID_ADDR+'/reference_images/*')\n",
    "\n",
    "refs_for_dst = []\n",
    "\n",
    "for elem in refs:\n",
    "    for i in range(5):\n",
    "        refs_for_dst.append(elem)"
   ]
  },
  {
   "cell_type": "code",
   "execution_count": 7,
   "metadata": {},
   "outputs": [
    {
     "data": {
      "text/plain": [
       "'D:\\\\quality_assessment\\\\knowledge_distillation\\\\cvr-iqa\\\\CVRKD-IQA\\\\dataset\\\\DIV2K_ref/val_HR\\\\0861.png'"
      ]
     },
     "execution_count": 7,
     "metadata": {},
     "output_type": "execute_result"
    }
   ],
   "source": [
    "import random , glob\n",
    "\n",
    "def get_random_HR_images():\n",
    "    all_images = glob.glob('D:\\quality_assessment\\knowledge_distillation\\cvr-iqa\\CVRKD-IQA\\dataset\\DIV2K_ref/val_HR/*')\n",
    "    return random.sample(all_images, 1)[0]\n",
    "\n",
    "\n",
    "get_random_HR_images()"
   ]
  },
  {
   "cell_type": "code",
   "execution_count": 8,
   "metadata": {},
   "outputs": [
    {
     "name": "stdout",
     "output_type": "stream",
     "text": [
      "3\n",
      "4\n",
      "5\n",
      "6\n",
      "7\n",
      "8\n",
      "9\n",
      "10\n",
      "11\n",
      "12\n",
      "13\n",
      "14\n",
      "15\n",
      "16\n",
      "17\n",
      "18\n",
      "19\n",
      "20\n",
      "21\n",
      "22\n",
      "23\n",
      "24\n",
      "25\n",
      "26\n"
     ]
    }
   ],
   "source": [
    "import xlsxwriter\n",
    " \n",
    "workbook = xlsxwriter.Workbook('SRCC_on_DST-Content-variant-ref(normal-mode).xlsx')\n",
    "worksheet = workbook.add_worksheet()\n",
    "\n",
    "\n",
    "row = 3\n",
    "\n",
    "\n",
    "for c in dsts:\n",
    "    imgs = get_images_dst(c)\n",
    "    # refs = refs_for_dst\n",
    "    cosines = []\n",
    "    moses = get_mos_dst(c)\n",
    "    for i in range(len(imgs)):\n",
    "        score = cvr_on_single_image(imgs[i] , get_random_HR_images())\n",
    "        \n",
    "        cosines.append(score)\n",
    "\n",
    "    worksheet.write(row, 3,  c)\n",
    "    worksheet.write(row, 4,  stats.spearmanr( cosines , moses)[0])\n",
    "\n",
    "    \n",
    "    print(row)\n",
    "    row +=1\n",
    "\n",
    "workbook.close()  "
   ]
  },
  {
   "cell_type": "markdown",
   "metadata": {},
   "source": [
    "all imgs\n"
   ]
  },
  {
   "cell_type": "code",
   "execution_count": 9,
   "metadata": {},
   "outputs": [
    {
     "name": "stdout",
     "output_type": "stream",
     "text": [
      "0.691959491885982\n"
     ]
    }
   ],
   "source": [
    "imgs = []\n",
    "refs = []\n",
    "moses = []\n",
    "for c in dsts:\n",
    "    imgs += get_images_dst(c)\n",
    "    refs += get_random_HR_images()\n",
    "    moses += get_mos_dst(c)\n",
    "\n",
    "\n",
    "cosines = []\n",
    "for i in range(len(imgs)):\n",
    "    rr = cvr_on_single_image(imgs[i] , get_random_HR_images())\n",
    "    \n",
    "    cosines.append( rr )\n",
    "\n",
    "\n",
    "print(stats.spearmanr( cosines , moses)[0])"
   ]
  },
  {
   "cell_type": "markdown",
   "metadata": {},
   "source": [
    "content"
   ]
  },
  {
   "cell_type": "code",
   "execution_count": 9,
   "metadata": {},
   "outputs": [
    {
     "name": "stdout",
     "output_type": "stream",
     "text": [
      "3\n",
      "4\n",
      "5\n",
      "6\n",
      "7\n",
      "8\n",
      "9\n",
      "10\n",
      "11\n",
      "12\n",
      "13\n",
      "14\n",
      "15\n",
      "16\n",
      "17\n",
      "18\n",
      "19\n",
      "20\n",
      "21\n",
      "22\n",
      "23\n",
      "24\n",
      "25\n",
      "26\n",
      "27\n"
     ]
    }
   ],
   "source": [
    "contents = [\"01\",\"02\",\"03\",\"04\",\"05\",\"06\",\"07\",\"08\",\"09\" , \"10\", \"11\", \"12\", \"13\", \"14\", \"15\", \"16\", \"17\", \"18\", \"19\",\"20\",\"21\",\"22\",\"23\",\"24\",\"25\"]\n",
    "\n",
    "\n",
    "def get_images_content(im_name):\n",
    "    imgs = glob.glob(TID_ADDR+'/distorted_images/*'+im_name+'_'+ '*' +'_'+ '*' +'.*')\n",
    "    return imgs\n",
    "\n",
    "def get_mos_content(im_name ):\n",
    "    mos = []\n",
    "    f = open(TID_ADDR+\"/mos_with_names.txt\", \"r\")\n",
    "    lines = f.readlines()\n",
    "    for l in lines:\n",
    "        if l.split(' ')[1][1:3] == im_name:\n",
    "            mos.append(float(l.split(' ')[0][:5]))\n",
    "\n",
    "    return mos\n",
    "\n",
    "\n",
    "def get_refs_content(content):\n",
    "        return glob.glob(TID_ADDR+'/reference_images/*'+content+'*') * 120\n",
    "\n",
    "\n",
    "\n",
    "\n",
    "\n",
    "import xlsxwriter\n",
    " \n",
    "workbook = xlsxwriter.Workbook('SRCC_cvr-contents-originalRefs(stacking).xlsx')\n",
    "worksheet = workbook.add_worksheet()\n",
    "\n",
    "\n",
    "\n",
    "row = 3\n",
    "\n",
    "\n",
    "for c in contents:\n",
    "    imgs = get_images_content(c)\n",
    "    refs = get_refs_content(c)\n",
    "    cosines = []\n",
    "    moses = get_mos_content(c)\n",
    "    for i in range(len(imgs)):\n",
    "        dd = cvr_on_single_image(imgs[i],refs[i])\n",
    "        \n",
    "        cosines.append( dd)\n",
    "\n",
    "    worksheet.write(row, 3,  c)\n",
    "    worksheet.write(row, 4,  stats.spearmanr( cosines , moses)[0])\n",
    "\n",
    "    \n",
    "    print(row)\n",
    "    row +=1\n",
    "\n",
    "workbook.close() "
   ]
  },
  {
   "cell_type": "markdown",
   "metadata": {},
   "source": [
    "all imgs"
   ]
  },
  {
   "cell_type": "code",
   "execution_count": 10,
   "metadata": {},
   "outputs": [
    {
     "data": {
      "text/plain": [
       "0.7528909932773492"
      ]
     },
     "execution_count": 10,
     "metadata": {},
     "output_type": "execute_result"
    }
   ],
   "source": [
    "imgs = []\n",
    "refs = []\n",
    "moses = []\n",
    "for c in contents:\n",
    "    imgs += get_images_content(c)\n",
    "    refs += get_refs_content(c)\n",
    "    moses += get_mos_content(c)\n",
    "\n",
    "\n",
    "cosines = []\n",
    "for i in range(len(imgs)):\n",
    "    dd = cvr_on_single_image(imgs[i] , refs[i])\n",
    "    \n",
    "    cosines.append(dd)\n",
    "\n",
    "stats.spearmanr( cosines , moses)[0]"
   ]
  },
  {
   "cell_type": "code",
   "execution_count": null,
   "metadata": {},
   "outputs": [],
   "source": []
  }
 ],
 "metadata": {
  "kernelspec": {
   "display_name": "gputest",
   "language": "python",
   "name": "python3"
  },
  "language_info": {
   "codemirror_mode": {
    "name": "ipython",
    "version": 3
   },
   "file_extension": ".py",
   "mimetype": "text/x-python",
   "name": "python",
   "nbconvert_exporter": "python",
   "pygments_lexer": "ipython3",
   "version": "3.9.18"
  },
  "orig_nbformat": 4
 },
 "nbformat": 4,
 "nbformat_minor": 2
}

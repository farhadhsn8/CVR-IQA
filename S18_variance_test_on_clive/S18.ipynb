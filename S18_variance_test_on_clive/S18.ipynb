{
 "cells": [
  {
   "cell_type": "code",
   "execution_count": 1,
   "metadata": {},
   "outputs": [
    {
     "data": {
      "text/plain": [
       "(-0.3369615411989142, -0.31079259594045033, -0.23766989273624328)"
      ]
     },
     "execution_count": 1,
     "metadata": {},
     "output_type": "execute_result"
    }
   ],
   "source": [
    "from scipy import stats\n",
    "from scipy.stats import pearsonr, kendalltau\n",
    "\n",
    "srcc = stats.spearmanr( [0.6480761, 0.62233955, 0.6661059, 0.631339, 0.6192408, 0.641552, 0.6423639, 0.7225227, 0.65772206, 0.63077545, 0.54655486  , 0.6763791, 0.62823856, 0.63159883, 0.62590545, 0.65006614, 0.6068853, 0.63621056, 0.5723472, 0.6442189, 0.62065214, 0.67560524, 0.6549503, 0.61165047], [0.062, 0.032, 0.029, 0.028, 0.027, 0.104, 0.028, 0.006, 0.033, 0.088, 0.052, 0.014, 0.029, 0.032, 0.022, 0.0, 0.012, 0.04, 0.051, 0.003, 0.032, 0.031, 0.019, 0.042])\n",
    "srcc0 = pearsonr( [0.6480761, 0.62233955, 0.6661059, 0.631339, 0.6192408, 0.641552, 0.6423639, 0.7225227, 0.65772206, 0.63077545, 0.54655486  , 0.6763791, 0.62823856, 0.63159883, 0.62590545, 0.65006614, 0.6068853, 0.63621056, 0.5723472, 0.6442189, 0.62065214, 0.67560524, 0.6549503, 0.61165047], [0.062, 0.032, 0.029, 0.028, 0.027, 0.104, 0.028, 0.006, 0.033, 0.088, 0.052, 0.014, 0.029, 0.032, 0.022, 0.0, 0.012, 0.04, 0.051, 0.003, 0.032, 0.031, 0.019, 0.042])\n",
    "srcc1 = kendalltau( [0.6480761, 0.62233955, 0.6661059, 0.631339, 0.6192408, 0.641552, 0.6423639, 0.7225227, 0.65772206, 0.63077545, 0.54655486  , 0.6763791, 0.62823856, 0.63159883, 0.62590545, 0.65006614, 0.6068853, 0.63621056, 0.5723472, 0.6442189, 0.62065214, 0.67560524, 0.6549503, 0.61165047], [0.062, 0.032, 0.029, 0.028, 0.027, 0.104, 0.028, 0.006, 0.033, 0.088, 0.052, 0.014, 0.029, 0.032, 0.022, 0.0, 0.012, 0.04, 0.051, 0.003, 0.032, 0.031, 0.019, 0.042])\n",
    "\n",
    "srcc[0],srcc0[0],srcc1[0]"
   ]
  },
  {
   "cell_type": "code",
   "execution_count": 2,
   "metadata": {},
   "outputs": [
    {
     "name": "stdout",
     "output_type": "stream",
     "text": [
      "NVIDIA GeForce GTX 1050\n",
      "True\n"
     ]
    }
   ],
   "source": [
    "import torch\n",
    "print(torch.cuda.get_device_name(0))\n",
    "print(torch.cuda.is_available())\n"
   ]
  },
  {
   "cell_type": "code",
   "execution_count": 3,
   "metadata": {},
   "outputs": [
    {
     "name": "stdout",
     "output_type": "stream",
     "text": [
      "d:\\quality_assessment\\knowledge_distillation\\cvr-iqa\\CVRKD-IQA\n"
     ]
    }
   ],
   "source": [
    "%cd ..\n"
   ]
  },
  {
   "cell_type": "code",
   "execution_count": 4,
   "metadata": {},
   "outputs": [
    {
     "name": "stdout",
     "output_type": "stream",
     "text": [
      "normal mode...\n",
      ">>>>>  ./model_zoo/NAR_student_cross_dataset.pth\n"
     ]
    }
   ],
   "source": [
    "from test_DistillationIQA_single import DistillationIQASolver\n",
    "\n",
    "\n",
    "obj_org = DistillationIQASolver(net_mode=\"org\",student_address='./model_zoo/NAR_student_cross_dataset.pth')"
   ]
  },
  {
   "cell_type": "code",
   "execution_count": 5,
   "metadata": {},
   "outputs": [
    {
     "name": "stdout",
     "output_type": "stream",
     "text": [
      "stacking modeV1...\n",
      ">>>>>  ./model_zoo/stacking_ep98_saved_student_model.pth\n"
     ]
    }
   ],
   "source": [
    "obj_stackV1 = DistillationIQASolver(net_mode=\"stackingV1\",student_address='./model_zoo/stacking_ep98_saved_student_model.pth')"
   ]
  },
  {
   "cell_type": "code",
   "execution_count": 4,
   "metadata": {},
   "outputs": [
    {
     "name": "stdout",
     "output_type": "stream",
     "text": [
      "stacking modeV2(combined)...\n",
      ">>>>>  ./model_zoo/stackingV2-ep70.pth\n"
     ]
    }
   ],
   "source": [
    "from test_DistillationIQA_single import DistillationIQASolver\n",
    "\n",
    "obj_stackV2 = DistillationIQASolver(net_mode=\"stackingV2\",student_address='./model_zoo/stackingV2-ep70.pth')"
   ]
  },
  {
   "cell_type": "code",
   "execution_count": 7,
   "metadata": {},
   "outputs": [
    {
     "name": "stdout",
     "output_type": "stream",
     "text": [
      "stacking modeV2(combined)...\n",
      ">>>>>  ./model_zoo/4loss_ep+26_5.pth\n"
     ]
    }
   ],
   "source": [
    "obj_4loss = DistillationIQASolver(net_mode=\"stackingV2\",student_address='./model_zoo/4loss_ep+26_5.pth')"
   ]
  },
  {
   "cell_type": "markdown",
   "metadata": {},
   "source": [
    "# dst:"
   ]
  },
  {
   "cell_type": "code",
   "execution_count": 11,
   "metadata": {},
   "outputs": [
    {
     "data": {
      "text/plain": [
       "'D:\\\\quality_assessment\\\\knowledge_distillation\\\\cvr-iqa\\\\CVRKD-IQA\\\\dataset\\\\DIV2K_ref/val_HR\\\\0860.png'"
      ]
     },
     "execution_count": 11,
     "metadata": {},
     "output_type": "execute_result"
    }
   ],
   "source": [
    "import random , glob\n",
    "\n",
    "def get_random_HR_images():\n",
    "    all_images = glob.glob('D:\\quality_assessment\\knowledge_distillation\\cvr-iqa\\CVRKD-IQA\\dataset\\DIV2K_ref/val_HR/*')\n",
    "    return random.sample(all_images, 1)[0]\n",
    "\n",
    "\n",
    "get_random_HR_images()"
   ]
  },
  {
   "cell_type": "markdown",
   "metadata": {},
   "source": [
    "all imgs\n"
   ]
  },
  {
   "cell_type": "code",
   "execution_count": 5,
   "metadata": {},
   "outputs": [
    {
     "data": {
      "text/plain": [
       "0.33071891388307384"
      ]
     },
     "execution_count": 5,
     "metadata": {},
     "output_type": "execute_result"
    }
   ],
   "source": [
    "def calculate_std(data):\n",
    "    if len(data) == 0:\n",
    "        return 0\n",
    "    mean = sum(data) / len(data)\n",
    "    variance = sum((x - mean) ** 2 for x in data) / len(data)\n",
    "    std = variance ** 0.5\n",
    "    return std\n",
    "\n",
    "\n",
    "\n",
    "calculate_std([11,11,11,11,11,11,11,10])"
   ]
  },
  {
   "cell_type": "code",
   "execution_count": 6,
   "metadata": {},
   "outputs": [
    {
     "data": {
      "text/plain": [
       "('dataset/LIVEC/images\\\\711.JPG',\n",
       " 'dataset/LIVEC/images\\\\1004.JPG',\n",
       " 'dataset/LIVEC/images\\\\36.bmp',\n",
       " 'dataset/LIVEC/images\\\\324.bmp',\n",
       " 'dataset/LIVEC/images\\\\509.bmp')"
      ]
     },
     "execution_count": 6,
     "metadata": {},
     "output_type": "execute_result"
    }
   ],
   "source": [
    "import glob\n",
    "\n",
    "import natsort\n",
    "\n",
    "\n",
    "\n",
    "all_clive_images = glob.glob(\"dataset/LIVEC/images/*.*\")\n",
    "all_clive_images = natsort.natsorted(all_clive_images)\n",
    "len(all_clive_images)\n",
    "all_clive_images[708],all_clive_images[1001],all_clive_images[33],all_clive_images[321],all_clive_images[506]\n"
   ]
  },
  {
   "cell_type": "code",
   "execution_count": 14,
   "metadata": {},
   "outputs": [
    {
     "data": {
      "text/plain": [
       "0.26938919165411856"
      ]
     },
     "execution_count": 14,
     "metadata": {},
     "output_type": "execute_result"
    }
   ],
   "source": [
    "li = []\n",
    "\n",
    "for i in range(10):\n",
    "    li.append(obj_stackV2.cvr_on_single_image(all_clive_images[764] ,get_random_HR_images()))\n",
    "\n",
    "calculate_std(li)\n"
   ]
  },
  {
   "cell_type": "code",
   "execution_count": 36,
   "metadata": {},
   "outputs": [
    {
     "name": "stderr",
     "output_type": "stream",
     "text": [
      "100%|██████████| 1162/1162 [10:54<00:00,  1.78it/s]\n",
      "100%|██████████| 1162/1162 [10:15<00:00,  1.89it/s]\n"
     ]
    }
   ],
   "source": [
    "import random\n",
    "import string\n",
    "from tqdm import tqdm\n",
    "\n",
    "\n",
    "def generate_random_filename(num,extension=\".txt\"):\n",
    "    letters = string.ascii_lowercase\n",
    "    random_name = \"\".join(random.choice(letters) for i in range(8))\n",
    "    return str(num)+\"_\"+random_name + extension\n",
    "\n",
    "\n",
    "for i in range(2):\n",
    "    random_filename = generate_random_filename(i)\n",
    "    with open(\"S18_variance_test_on_clive/_CLIVE_TEST/\"+random_filename, 'w') as file:\n",
    "        for im in tqdm(all_clive_images):\n",
    "            sc = obj_stackV2.cvr_on_single_image(im ,get_random_HR_images())\n",
    "            file.write(f\"{sc:.3f} {im}\\n\")\n",
    "            \n",
    "\n"
   ]
  },
  {
   "cell_type": "code",
   "execution_count": 13,
   "metadata": {},
   "outputs": [
    {
     "data": {
      "text/plain": [
       "(1162,\n",
       " array([32.56107532, 66.35954917, 44.69498452, ..., 62.66171188,\n",
       "        87.06559249, 72.75387093]))"
      ]
     },
     "execution_count": 13,
     "metadata": {},
     "output_type": "execute_result"
    }
   ],
   "source": [
    "import scipy.io\n",
    "import numpy as np\n",
    "\n",
    "# Load the .mat file into a list\n",
    "mat_contents = scipy.io.loadmat('dataset/LIVEC/Data/AllStdDev_release.mat')\n",
    "std_clive = mat_contents['AllStdDev_release'][0][7:1169]\n",
    "len(std_clive) ,std_clive\n",
    "\n",
    "\n",
    "\n",
    "\n",
    "mat_contents = scipy.io.loadmat('dataset/LIVEC/Data/AllMOS_release.mat')\n",
    "mos_clive = mat_contents['AllMOS_release'][0][7:1169]\n",
    "len(mos_clive) ,mos_clive\n",
    "# mat_contents"
   ]
  },
  {
   "cell_type": "code",
   "execution_count": 12,
   "metadata": {},
   "outputs": [
    {
     "name": "stdout",
     "output_type": "stream",
     "text": [
      "52\n"
     ]
    },
    {
     "data": {
      "text/plain": [
       "['0_mtnabftu.txt',\n",
       " '0_stvksxij.txt',\n",
       " '10_monoirrk.txt',\n",
       " '11_fkvrzkay.txt',\n",
       " '12_ofleemrb.txt',\n",
       " '13_onxfkzat.txt',\n",
       " '14_cfnvhyvv.txt',\n",
       " '15_pakxpycc.txt',\n",
       " '16_qygzqkhk.txt',\n",
       " '17_yesssugi.txt',\n",
       " '18_xanoyrhs.txt',\n",
       " '19_mzzklxft.txt',\n",
       " '1_jslgeqer.txt',\n",
       " '1_ldargzrh.txt',\n",
       " '20_uhnipmlm.txt',\n",
       " '21_dbptpqvj.txt',\n",
       " '22_nharlneu.txt',\n",
       " '23_pbhdzgfd.txt',\n",
       " '24_abjzsrqx.txt',\n",
       " '25_jdptyhdz.txt',\n",
       " '26_axvvtzjt.txt',\n",
       " '27_mfjvgduy.txt',\n",
       " '28_jjhnefar.txt',\n",
       " '29_btxsqgyh.txt',\n",
       " '2_hlompzaj.txt',\n",
       " '30_snwrdtlj.txt',\n",
       " '31_yrgdzmai.txt',\n",
       " '32_ioxgoeyb.txt',\n",
       " '33_sfjxllyp.txt',\n",
       " '34_pyarnbeu.txt',\n",
       " '35_wcduuamd.txt',\n",
       " '36_oqbpnjfb.txt',\n",
       " '37_mvoejpti.txt',\n",
       " '38_vrjztwxy.txt',\n",
       " '39_ykgkricg.txt',\n",
       " '3_uwfdbxnf.txt',\n",
       " '40_eebigofz.txt',\n",
       " '41_bnrudirg.txt',\n",
       " '42_hqctkkyw.txt',\n",
       " '43_gixjdbwl.txt',\n",
       " '44_zmdcblle.txt',\n",
       " '45_mjfdegll.txt',\n",
       " '46_jjieunja.txt',\n",
       " '47_knzquugd.txt',\n",
       " '48_jaucjwgq.txt',\n",
       " '49_begmmmlr.txt',\n",
       " '4_raphsdob.txt',\n",
       " '5_kgmrryab.txt',\n",
       " '6_ddtfplzn.txt',\n",
       " '7_tfeupitv.txt',\n",
       " '8_qogxorki.txt',\n",
       " '9_zvwtfnfa.txt']"
      ]
     },
     "execution_count": 12,
     "metadata": {},
     "output_type": "execute_result"
    }
   ],
   "source": [
    "import os\n",
    "\n",
    "# Directory containing the txt files\n",
    "directory = \"S18_variance_test_on_clive/_CLIVE_TEST\"\n",
    "\n",
    "# List to store the names of txt files\n",
    "txt_files = []\n",
    "\n",
    "# Iterate over the files in the directory\n",
    "for filename in os.listdir(directory):\n",
    "    if filename.endswith(\".txt\"):\n",
    "        txt_files.append(filename)\n",
    "\n",
    "# Print the list of txt files\n",
    "print(len(txt_files))\n",
    "# txt_files\n",
    "\n",
    "txt_files\n"
   ]
  },
  {
   "cell_type": "code",
   "execution_count": 14,
   "metadata": {},
   "outputs": [],
   "source": [
    "def calculate_mean(lst):\n",
    "    return sum(lst) / len(lst)\n"
   ]
  },
  {
   "cell_type": "code",
   "execution_count": 15,
   "metadata": {},
   "outputs": [
    {
     "name": "stderr",
     "output_type": "stream",
     "text": [
      "100%|██████████| 1162/1162 [00:28<00:00, 41.22it/s]\n"
     ]
    }
   ],
   "source": [
    "# Directory containing the txt files\n",
    "directory = \"S18_variance_test_on_clive/_CLIVE_TEST\"\n",
    "from tqdm import tqdm\n",
    "# List to store the first line values\n",
    "\n",
    "all_stds = []\n",
    "all_means = []\n",
    "# Iterate over the txt files\n",
    "for i in tqdm(range(1162)):\n",
    "    first_line_values = []\n",
    "\n",
    "    for filename in txt_files:\n",
    "        with open(os.path.join(directory, filename), 'r') as file:\n",
    "            for j in range(i):\n",
    "                file.readline()\n",
    "            first_line = file.readline().strip()\n",
    "            if first_line:\n",
    "                value = first_line.split()[0]\n",
    "                first_line_values.append(float(value))\n",
    "\n",
    "    all_stds.append(calculate_std(first_line_values))\n",
    "    all_means.append(calculate_mean(first_line_values))\n",
    "# Print the list of first line values\n",
    "\n",
    "\n",
    "\n",
    "\n",
    "\n"
   ]
  },
  {
   "cell_type": "code",
   "execution_count": 25,
   "metadata": {},
   "outputs": [
    {
     "data": {
      "image/png": "[encoded data removed]",
      "text/plain": [
       "<Figure size 640x480 with 1 Axes>"
      ]
     },
     "metadata": {},
     "output_type": "display_data"
    },
    {
     "name": "stdout",
     "output_type": "stream",
     "text": [
      "0.16930981151171565\n"
     ]
    }
   ],
   "source": [
    "# Normalize the lists\n",
    "# moss_normalized = [(x - min(moss)) / (max(moss) - min(moss)) for x in moss]\n",
    "# stdd_normalized = [(x - min(stdd)) / (max(stdd) - min(stdd)) for x in stdd]\n",
    "import matplotlib.pyplot as plt\n",
    "\n",
    "# all_stds , all_means , mos_clive , std_clive\n",
    "\n",
    "# Plot scatter plot\n",
    "plt.scatter(all_means, all_stds , s=2)\n",
    "plt.xlabel('calculated_means')\n",
    "plt.ylabel('calculated_stds')\n",
    "plt.show()\n",
    "\n",
    "# Compute correlation\n",
    "correlation, _ = pearsonr(all_means, all_stds)\n",
    "print(correlation)\n"
   ]
  },
  {
   "cell_type": "code",
   "execution_count": 6,
   "metadata": {},
   "outputs": [
    {
     "ename": "TypeError",
     "evalue": "unsupported operand type(s) for -: 'str' and 'str'",
     "output_type": "error",
     "traceback": [
      "\u001b[1;31m---------------------------------------------------------------------------\u001b[0m",
      "\u001b[1;31mTypeError\u001b[0m                                 Traceback (most recent call last)",
      "Cell \u001b[1;32mIn[6], line 7\u001b[0m\n\u001b[0;32m      2\u001b[0m \u001b[38;5;28;01mfrom\u001b[39;00m \u001b[38;5;21;01mscipy\u001b[39;00m\u001b[38;5;21;01m.\u001b[39;00m\u001b[38;5;21;01mstats\u001b[39;00m \u001b[38;5;28;01mimport\u001b[39;00m pearsonr\n\u001b[0;32m      4\u001b[0m \u001b[38;5;66;03m# Assuming `all_stds` is the list of standard deviations calculated earlier\u001b[39;00m\n\u001b[0;32m      5\u001b[0m \u001b[38;5;66;03m# and `file_contents` is the list of MOS standard deviations from the txt file\u001b[39;00m\n\u001b[0;32m      6\u001b[0m \u001b[38;5;66;03m# Normalize the lists\u001b[39;00m\n\u001b[1;32m----> 7\u001b[0m file_contents1 \u001b[38;5;241m=\u001b[39m [(x \u001b[38;5;241m-\u001b[39m \u001b[38;5;28mmin\u001b[39m(file_contents)) \u001b[38;5;241m/\u001b[39m (\u001b[38;5;28mmax\u001b[39m(file_contents) \u001b[38;5;241m-\u001b[39m \u001b[38;5;28mmin\u001b[39m(file_contents)) \u001b[38;5;28;01mfor\u001b[39;00m x \u001b[38;5;129;01min\u001b[39;00m file_contents]\n\u001b[0;32m      8\u001b[0m all_stds1 \u001b[38;5;241m=\u001b[39m [(x \u001b[38;5;241m-\u001b[39m \u001b[38;5;28mmin\u001b[39m(all_stds)) \u001b[38;5;241m/\u001b[39m (\u001b[38;5;28mmax\u001b[39m(all_stds) \u001b[38;5;241m-\u001b[39m \u001b[38;5;28mmin\u001b[39m(all_stds)) \u001b[38;5;28;01mfor\u001b[39;00m x \u001b[38;5;129;01min\u001b[39;00m all_stds]\n\u001b[0;32m     10\u001b[0m \u001b[38;5;66;03m# Plot scatter plot\u001b[39;00m\n",
      "Cell \u001b[1;32mIn[6], line 7\u001b[0m, in \u001b[0;36m<listcomp>\u001b[1;34m(.0)\u001b[0m\n\u001b[0;32m      2\u001b[0m \u001b[38;5;28;01mfrom\u001b[39;00m \u001b[38;5;21;01mscipy\u001b[39;00m\u001b[38;5;21;01m.\u001b[39;00m\u001b[38;5;21;01mstats\u001b[39;00m \u001b[38;5;28;01mimport\u001b[39;00m pearsonr\n\u001b[0;32m      4\u001b[0m \u001b[38;5;66;03m# Assuming `all_stds` is the list of standard deviations calculated earlier\u001b[39;00m\n\u001b[0;32m      5\u001b[0m \u001b[38;5;66;03m# and `file_contents` is the list of MOS standard deviations from the txt file\u001b[39;00m\n\u001b[0;32m      6\u001b[0m \u001b[38;5;66;03m# Normalize the lists\u001b[39;00m\n\u001b[1;32m----> 7\u001b[0m file_contents1 \u001b[38;5;241m=\u001b[39m [(\u001b[43mx\u001b[49m\u001b[43m \u001b[49m\u001b[38;5;241;43m-\u001b[39;49m\u001b[43m \u001b[49m\u001b[38;5;28;43mmin\u001b[39;49m\u001b[43m(\u001b[49m\u001b[43mfile_contents\u001b[49m\u001b[43m)\u001b[49m) \u001b[38;5;241m/\u001b[39m (\u001b[38;5;28mmax\u001b[39m(file_contents) \u001b[38;5;241m-\u001b[39m \u001b[38;5;28mmin\u001b[39m(file_contents)) \u001b[38;5;28;01mfor\u001b[39;00m x \u001b[38;5;129;01min\u001b[39;00m file_contents]\n\u001b[0;32m      8\u001b[0m all_stds1 \u001b[38;5;241m=\u001b[39m [(x \u001b[38;5;241m-\u001b[39m \u001b[38;5;28mmin\u001b[39m(all_stds)) \u001b[38;5;241m/\u001b[39m (\u001b[38;5;28mmax\u001b[39m(all_stds) \u001b[38;5;241m-\u001b[39m \u001b[38;5;28mmin\u001b[39m(all_stds)) \u001b[38;5;28;01mfor\u001b[39;00m x \u001b[38;5;129;01min\u001b[39;00m all_stds]\n\u001b[0;32m     10\u001b[0m \u001b[38;5;66;03m# Plot scatter plot\u001b[39;00m\n",
      "\u001b[1;31mTypeError\u001b[0m: unsupported operand type(s) for -: 'str' and 'str'"
     ]
    }
   ],
   "source": [
    "import matplotlib.pyplot as plt\n",
    "from scipy.stats import pearsonr\n",
    "\n",
    "# Assuming `all_stds` is the list of standard deviations calculated earlier\n",
    "# and `file_contents` is the list of MOS standard deviations from the txt file\n",
    "# Normalize the lists\n",
    "file_contents1 = [(x - min(file_contents)) / (max(file_contents) - min(file_contents)) for x in file_contents]\n",
    "all_stds1 = [(x - min(all_stds)) / (max(all_stds) - min(all_stds)) for x in all_stds]\n",
    "\n",
    "# Plot scatter plot\n",
    "plt.scatter(file_contents1, all_stds1, s= 2)\n",
    "plt.xlabel('MOS')\n",
    "plt.ylabel('Calculated Standard Deviations')\n",
    "plt.title('Scatter Plot of MOS vs Calculated Standard Deviations')\n",
    "plt.show()\n",
    "\n",
    "# Compute correlation\n",
    "correlation, _ = pearsonr(file_contents1, all_stds1)\n",
    "print(f'Correlation between MOS and Calculated Standard Deviations: {correlation}')\n",
    "# Plot scatter plot with small points\n",
    "# plt.scatter(file_contents1, all_stds1, s=10)  # s parameter sets the size of the points\n",
    "# plt.xlabel('MOS Standard Deviations')\n",
    "# plt.ylabel('Calculated Standard Deviations')\n",
    "# plt.title('Scatter Plot of MOS vs Calculated Standard Deviations')\n",
    "# plt.show()\n",
    "\n"
   ]
  },
  {
   "cell_type": "code",
   "execution_count": 16,
   "metadata": {},
   "outputs": [
    {
     "data": {
      "image/png": "[encoded data removed]",
      "text/plain": [
       "<Figure size 640x480 with 1 Axes>"
      ]
     },
     "metadata": {},
     "output_type": "display_data"
    },
    {
     "data": {
      "image/png": "[encoded data removed]",
      "text/plain": [
       "<Figure size 640x480 with 1 Axes>"
      ]
     },
     "metadata": {},
     "output_type": "display_data"
    }
   ],
   "source": [
    "# Plot histograms of the two lists\n",
    "\n",
    "# Plot histogram for file_contents1\n",
    "plt.hist(file_contents1, bins=30, alpha=0.5, label='MOS')\n",
    "plt.xlabel('Value')\n",
    "plt.ylabel('Frequency')\n",
    "plt.title('Histogram of STD')\n",
    "plt.legend()\n",
    "plt.show()\n",
    "\n",
    "# Plot histogram for all_stds1\n",
    "plt.hist(all_stds1, bins=30, alpha=0.5, label='Calculated Standard Deviations')\n",
    "plt.xlabel('Value')\n",
    "plt.ylabel('Frequency')\n",
    "plt.title('Histogram of Calculated Standard Deviations')\n",
    "plt.legend()\n",
    "plt.show()\n"
   ]
  }
 ],
 "metadata": {
  "kernelspec": {
   "display_name": "gputest",
   "language": "python",
   "name": "python3"
  },
  "language_info": {
   "codemirror_mode": {
    "name": "ipython",
    "version": 3
   },
   "file_extension": ".py",
   "mimetype": "text/x-python",
   "name": "python",
   "nbconvert_exporter": "python",
   "pygments_lexer": "ipython3",
   "version": "3.9.18"
  },
  "orig_nbformat": 4
 },
 "nbformat": 4,
 "nbformat_minor": 2
}

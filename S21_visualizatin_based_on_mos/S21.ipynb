{
 "cells": [
  {
   "cell_type": "code",
   "execution_count": 1,
   "metadata": {},
   "outputs": [
    {
     "data": {
      "text/plain": [
       "(-0.3369615411989142, -0.31079259594045033, -0.23766989273624328)"
      ]
     },
     "execution_count": 1,
     "metadata": {},
     "output_type": "execute_result"
    }
   ],
   "source": [
    "from scipy import stats\n",
    "from scipy.stats import pearsonr, kendalltau\n",
    "\n",
    "srcc = stats.spearmanr( [0.6480761, 0.62233955, 0.6661059, 0.631339, 0.6192408, 0.641552, 0.6423639, 0.7225227, 0.65772206, 0.63077545, 0.54655486  , 0.6763791, 0.62823856, 0.63159883, 0.62590545, 0.65006614, 0.6068853, 0.63621056, 0.5723472, 0.6442189, 0.62065214, 0.67560524, 0.6549503, 0.61165047], [0.062, 0.032, 0.029, 0.028, 0.027, 0.104, 0.028, 0.006, 0.033, 0.088, 0.052, 0.014, 0.029, 0.032, 0.022, 0.0, 0.012, 0.04, 0.051, 0.003, 0.032, 0.031, 0.019, 0.042])\n",
    "srcc0 = pearsonr( [0.6480761, 0.62233955, 0.6661059, 0.631339, 0.6192408, 0.641552, 0.6423639, 0.7225227, 0.65772206, 0.63077545, 0.54655486  , 0.6763791, 0.62823856, 0.63159883, 0.62590545, 0.65006614, 0.6068853, 0.63621056, 0.5723472, 0.6442189, 0.62065214, 0.67560524, 0.6549503, 0.61165047], [0.062, 0.032, 0.029, 0.028, 0.027, 0.104, 0.028, 0.006, 0.033, 0.088, 0.052, 0.014, 0.029, 0.032, 0.022, 0.0, 0.012, 0.04, 0.051, 0.003, 0.032, 0.031, 0.019, 0.042])\n",
    "srcc1 = kendalltau( [0.6480761, 0.62233955, 0.6661059, 0.631339, 0.6192408, 0.641552, 0.6423639, 0.7225227, 0.65772206, 0.63077545, 0.54655486  , 0.6763791, 0.62823856, 0.63159883, 0.62590545, 0.65006614, 0.6068853, 0.63621056, 0.5723472, 0.6442189, 0.62065214, 0.67560524, 0.6549503, 0.61165047], [0.062, 0.032, 0.029, 0.028, 0.027, 0.104, 0.028, 0.006, 0.033, 0.088, 0.052, 0.014, 0.029, 0.032, 0.022, 0.0, 0.012, 0.04, 0.051, 0.003, 0.032, 0.031, 0.019, 0.042])\n",
    "\n",
    "srcc[0],srcc0[0],srcc1[0]"
   ]
  },
  {
   "cell_type": "code",
   "execution_count": 2,
   "metadata": {},
   "outputs": [
    {
     "name": "stdout",
     "output_type": "stream",
     "text": [
      "NVIDIA GeForce GTX 1050\n",
      "True\n"
     ]
    }
   ],
   "source": [
    "import torch\n",
    "print(torch.cuda.get_device_name(0))\n",
    "print(torch.cuda.is_available())\n"
   ]
  },
  {
   "cell_type": "code",
   "execution_count": 3,
   "metadata": {},
   "outputs": [
    {
     "name": "stdout",
     "output_type": "stream",
     "text": [
      "d:\\quality_assessment\\knowledge_distillation\\cvr-iqa\\CVRKD-IQA\n"
     ]
    }
   ],
   "source": [
    "%cd ..\n"
   ]
  },
  {
   "cell_type": "code",
   "execution_count": 4,
   "metadata": {},
   "outputs": [
    {
     "name": "stdout",
     "output_type": "stream",
     "text": [
      "normal mode...\n",
      ">>>>>  ./model_zoo/NAR_student_cross_dataset.pth\n"
     ]
    }
   ],
   "source": [
    "from test_DistillationIQA_single import DistillationIQASolver\n",
    "\n",
    "\n",
    "obj_org = DistillationIQASolver(net_mode=\"org\",student_address='./model_zoo/NAR_student_cross_dataset.pth')"
   ]
  },
  {
   "cell_type": "code",
   "execution_count": 5,
   "metadata": {},
   "outputs": [
    {
     "name": "stdout",
     "output_type": "stream",
     "text": [
      "stacking modeV2(combined)...\n",
      ">>>>>  ./model_zoo/stackingV2-ep70.pth\n"
     ]
    }
   ],
   "source": [
    "from test_DistillationIQA_single import DistillationIQASolver\n",
    "\n",
    "obj_stackV2 = DistillationIQASolver(net_mode=\"stackingV2\",student_address='./model_zoo/stackingV2-ep70.pth')"
   ]
  },
  {
   "cell_type": "markdown",
   "metadata": {},
   "source": [
    "# dst:"
   ]
  },
  {
   "cell_type": "code",
   "execution_count": 6,
   "metadata": {},
   "outputs": [
    {
     "data": {
      "text/plain": [
       "'D:\\\\quality_assessment\\\\knowledge_distillation\\\\cvr-iqa\\\\CVRKD-IQA\\\\dataset\\\\DIV2K_ref/val_HR\\\\0834.png'"
      ]
     },
     "execution_count": 6,
     "metadata": {},
     "output_type": "execute_result"
    }
   ],
   "source": [
    "import random , glob\n",
    "\n",
    "def get_random_HR_images():\n",
    "    all_images = glob.glob('D:\\quality_assessment\\knowledge_distillation\\cvr-iqa\\CVRKD-IQA\\dataset\\DIV2K_ref/val_HR/*')\n",
    "    return random.sample(all_images, 1)[0]\n",
    "\n",
    "\n",
    "get_random_HR_images()"
   ]
  },
  {
   "cell_type": "markdown",
   "metadata": {},
   "source": [
    "## CLIVE"
   ]
  },
  {
   "cell_type": "code",
   "execution_count": 7,
   "metadata": {},
   "outputs": [
    {
     "data": {
      "text/plain": [
       "((1162,),\n",
       " array([32.56107532, 66.35954917, 44.69498452, 39.23455873,  9.2290738 ]),\n",
       " 92.4319526627219)"
      ]
     },
     "execution_count": 7,
     "metadata": {},
     "output_type": "execute_result"
    }
   ],
   "source": [
    "import scipy.io\n",
    "import numpy as np\n",
    "\n",
    "# Load the .mat file\n",
    "mat_data = scipy.io.loadmat('dataset/LIVEC/Data/AllMOS_release.mat')\n",
    "\n",
    "# Extract the MOS values\n",
    "mos_values = mat_data['AllMOS_release'].flatten()\n",
    "\n",
    "# Convert to numpy array if not already\n",
    "mos_array = np.array(mos_values[7:1169])\n",
    "\n",
    "mos_array.shape , mos_array[:5] , mos_array.max()\n"
   ]
  },
  {
   "cell_type": "code",
   "execution_count": 8,
   "metadata": {},
   "outputs": [
    {
     "name": "stdout",
     "output_type": "stream",
     "text": [
      "Number of images: 1162\n",
      "First 5 image names:\n",
      "['100.bmp', '101.bmp', '102.bmp', '103.bmp', '104.bmp', '105.bmp', '106.bmp', '107.bmp', '108.bmp', '109.bmp', '10.bmp', '110.bmp', '111.bmp', '112.bmp', '113.bmp', '114.bmp', '115.bmp', '116.bmp', '117.bmp', '118.bmp', '119.bmp', '11.bmp', '120.bmp', '121.bmp', '122.bmp', '123.bmp', '124.bmp', '125.bmp', '126.bmp', '127.bmp', '128.bmp', '129.bmp', '12.bmp', '130.bmp', '131.bmp', '132.bmp', '133.bmp', '134.bmp', '135.bmp', '136.bmp', '137.bmp', '138.bmp', '139.bmp', '13.bmp', '140.bmp', '141.bmp', '142.bmp', '143.bmp', '144.bmp', '145.bmp', '146.bmp', '147.bmp', '148.bmp', '149.bmp', '14.bmp', '150.bmp', '151.bmp', '152.bmp', '153.bmp', '154.bmp', '155.bmp', '156.bmp', '157.bmp', '158.bmp', '159.bmp', '15.bmp', '160.bmp', '161.bmp', '162.bmp', '163.bmp', '164.bmp', '165.bmp', '166.bmp', '167.bmp', '168.bmp', '169.bmp', '16.bmp', '170.bmp', '171.bmp', '172.bmp', '173.bmp', '174.bmp', '175.bmp', '176.bmp', '177.bmp', '178.bmp', '179.bmp', '17.bmp', '180.bmp', '181.bmp', '182.bmp', '183.bmp', '184.bmp', '185.bmp', '186.bmp', '187.bmp', '188.bmp', '189.bmp', '18.bmp', '190.bmp', '191.bmp', '192.bmp', '193.bmp', '194.bmp', '195.bmp', '196.bmp', '197.bmp', '198.bmp', '199.bmp', '19.bmp', '200.bmp', '201.bmp', '202.bmp', '203.bmp', '204.bmp', '205.bmp', '206.bmp', '207.bmp', '208.bmp', '209.bmp', '20.bmp', '210.bmp', '211.bmp', '212.bmp', '213.bmp', '214.bmp', '215.bmp', '216.bmp', '217.bmp', '218.bmp', '219.bmp', '21.bmp', '220.bmp', '221.bmp', '222.bmp', '223.bmp', '224.bmp', '225.bmp', '226.bmp', '227.bmp', '228.bmp', '229.bmp', '22.bmp', '230.bmp', '231.bmp', '232.bmp', '233.bmp', '234.bmp', '235.bmp', '236.bmp', '237.bmp', '238.bmp', '239.bmp', '23.bmp', '240.bmp', '241.bmp', '242.bmp', '243.bmp', '244.bmp', '245.bmp', '246.bmp', '247.bmp', '248.bmp', '249.bmp', '24.bmp', '250.bmp', '251.bmp', '252.bmp', '253.bmp', '254.bmp', '255.bmp', '256.bmp', '257.bmp', '258.bmp', '259.bmp', '25.bmp', '260.bmp', '261.bmp', '262.bmp', '263.bmp', '264.bmp', '265.bmp', '266.bmp', '267.bmp', '268.bmp', '269.bmp', '26.bmp', '270.bmp', '271.bmp', '272.bmp', '273.bmp', '274.bmp', '275.bmp', '276.bmp', '277.bmp', '278.bmp', '279.bmp', '27.bmp', '280.bmp', '281.bmp', '282.bmp', '283.bmp', '284.bmp', '285.bmp', '286.bmp', '287.bmp', '288.bmp', '289.bmp', '28.bmp', '290.bmp', '291.bmp', '292.bmp', '293.bmp', '294.bmp', '295.bmp', '296.bmp', '297.bmp', '298.bmp', '299.bmp', '29.bmp', '300.bmp', '301.bmp', '302.bmp', '303.bmp', '304.bmp', '305.bmp', '306.bmp', '307.bmp', '308.bmp', '309.bmp', '30.bmp', '310.bmp', '311.bmp', '312.bmp', '313.bmp', '314.bmp', '315.bmp', '316.bmp', '317.bmp', '318.bmp', '319.bmp', '31.bmp', '320.bmp', '321.bmp', '322.bmp', '323.bmp', '324.bmp', '325.bmp', '326.bmp', '327.bmp', '328.bmp', '329.bmp', '32.bmp', '330.bmp', '331.bmp', '332.bmp', '333.bmp', '334.bmp', '335.bmp', '336.bmp', '337.bmp', '338.bmp', '339.bmp', '33.bmp', '340.bmp', '341.bmp', '342.bmp', '343.bmp', '344.bmp', '345.bmp', '346.bmp', '347.bmp', '348.bmp', '349.bmp', '34.bmp', '350.bmp', '351.bmp', '352.bmp', '353.bmp', '354.bmp', '355.bmp', '356.bmp', '357.bmp', '358.bmp', '359.bmp', '35.bmp', '360.bmp', '361.bmp', '362.bmp', '363.bmp', '364.bmp', '365.bmp', '366.bmp', '367.bmp', '368.bmp', '369.bmp', '36.bmp', '370.bmp', '371.bmp', '372.bmp', '373.bmp', '374.bmp', '375.bmp', '376.bmp', '377.bmp', '378.bmp', '379.bmp', '37.bmp', '380.bmp', '381.bmp', '382.bmp', '383.bmp', '384.bmp', '385.bmp', '386.bmp', '387.bmp', '388.bmp', '389.bmp', '38.bmp', '390.bmp', '391.bmp', '392.bmp', '393.bmp', '394.bmp', '395.bmp', '396.bmp', '397.bmp', '398.bmp', '399.bmp', '39.bmp', '3.bmp', '400.bmp', '401.bmp', '402.bmp', '403.bmp', '404.bmp', '405.bmp', '406.bmp', '407.bmp', '408.bmp', '409.bmp', '40.bmp', '410.bmp', '411.bmp', '412.bmp', '413.bmp', '414.bmp', '415.bmp', '416.bmp', '417.bmp', '418.bmp', '419.bmp', '41.bmp', '420.bmp', '421.bmp', '422.bmp', '423.bmp', '424.bmp', '425.bmp', '426.bmp', '427.bmp', '428.bmp', '429.bmp', '42.bmp', '430.bmp', '431.bmp', '432.bmp', '433.bmp', '434.bmp', '435.bmp', '436.bmp', '437.bmp', '438.bmp', '439.bmp', '43.bmp', '440.bmp', '441.bmp', '442.bmp', '443.bmp', '444.bmp', '445.bmp', '446.bmp', '447.bmp', '448.bmp', '449.bmp', '44.bmp', '450.bmp', '451.bmp', '452.bmp', '453.bmp', '454.bmp', '455.bmp', '456.bmp', '457.bmp', '458.bmp', '459.bmp', '45.bmp', '460.bmp', '461.bmp', '462.bmp', '463.bmp', '464.bmp', '465.bmp', '466.bmp', '467.bmp', '468.bmp', '469.bmp', '46.bmp', '470.bmp', '471.bmp', '472.bmp', '473.bmp', '474.bmp', '475.bmp', '476.bmp', '477.bmp', '478.bmp', '479.bmp', '47.bmp', '480.bmp', '481.bmp', '482.bmp', '483.bmp', '484.bmp', '485.bmp', '486.bmp', '487.bmp', '488.bmp', '489.bmp', '48.bmp', '490.bmp', '491.bmp', '492.bmp', '493.bmp', '494.bmp', '495.bmp', '496.bmp', '497.bmp', '498.bmp', '499.bmp', '49.bmp', '4.bmp', '500.bmp', '501.bmp', '502.bmp', '503.bmp', '504.bmp', '505.bmp', '506.bmp', '507.bmp', '508.bmp', '509.bmp', '50.bmp', '510.bmp', '511.bmp', '512.bmp', '513.bmp', '514.bmp', '515.bmp', '516.bmp', '517.bmp', '518.bmp', '519.bmp', '51.bmp', '520.bmp', '521.bmp', '522.bmp', '523.bmp', '524.bmp', '525.bmp', '526.bmp', '527.bmp', '528.bmp', '529.bmp', '52.bmp', '530.bmp', '531.bmp', '532.bmp', '53.bmp', '54.bmp', '55.bmp', '56.bmp', '57.bmp', '58.bmp', '59.bmp', '5.bmp', '60.bmp', '61.bmp', '62.bmp', '63.bmp', '64.bmp', '65.bmp', '66.bmp', '67.bmp', '68.bmp', '69.bmp', '6.bmp', '70.bmp', '71.bmp', '72.bmp', '73.bmp', '74.bmp', '75.bmp', '76.bmp', '77.bmp', '78.bmp', '79.bmp', '7.bmp', '80.bmp', '81.bmp', '82.bmp', '83.bmp', '84.bmp', '85.bmp', '86.bmp', '87.bmp', '88.bmp', '89.bmp', '8.bmp', '90.bmp', '91.bmp', '92.bmp', '93.bmp', '94.bmp', '95.bmp', '96.bmp', '97.bmp', '98.bmp', '99.bmp', '9.bmp', '533.JPG', '534.JPG', '535.JPG', '536.JPG', '537.JPG', '538.JPG', '539.JPG', '540.JPG', '541.JPG', '542.JPG', '543.JPG', '544.JPG', '545.JPG', '546.JPG', '547.JPG', '548.JPG', '549.JPG', '550.JPG', '551.JPG', '552.JPG', '553.JPG', '554.JPG', '555.JPG', '556.JPG', '557.JPG', '558.JPG', '559.JPG', '560.JPG', '561.JPG', '562.JPG', '563.JPG', '564.JPG', '565.JPG', '566.JPG', '567.JPG', '568.JPG', '569.JPG', '570.JPG', '571.JPG', '572.JPG', '573.JPG', '574.JPG', '575.JPG', '576.JPG', '577.JPG', '578.JPG', '579.JPG', '580.JPG', '581.JPG', '582.JPG', '583.JPG', '584.JPG', '585.JPG', '586.JPG', '587.JPG', '588.JPG', '589.JPG', '590.JPG', '591.JPG', '592.JPG', '593.JPG', '594.JPG', '595.JPG', '596.JPG', '597.JPG', '598.JPG', '599.JPG', '600.JPG', '601.JPG', '602.JPG', '603.JPG', '604.JPG', '605.JPG', '606.JPG', '607.JPG', '608.JPG', '609.JPG', '610.JPG', '611.JPG', '612.JPG', '613.JPG', '614.JPG', '615.JPG', '616.JPG', '617.JPG', '618.JPG', '619.JPG', '620.JPG', '621.JPG', '622.JPG', '623.JPG', '624.JPG', '625.JPG', '626.JPG', '627.JPG', '628.JPG', '629.JPG', '630.JPG', '631.JPG', '632.JPG', '633.JPG', '634.JPG', '635.JPG', '636.JPG', '637.JPG', '638.JPG', '639.JPG', '640.JPG', '641.JPG', '642.JPG', '643.JPG', '644.JPG', '645.JPG', '646.JPG', '647.JPG', '648.JPG', '649.JPG', '650.JPG', '651.JPG', '652.JPG', '653.JPG', '654.JPG', '655.JPG', '656.JPG', '657.JPG', '658.JPG', '659.JPG', '660.JPG', '661.JPG', '662.JPG', '663.JPG', '664.JPG', '665.JPG', '666.JPG', '667.JPG', '668.JPG', '669.JPG', '670.JPG', '671.JPG', '672.JPG', '673.JPG', '674.JPG', '675.JPG', '676.JPG', '677.JPG', '678.JPG', '679.JPG', '680.JPG', '681.JPG', '682.JPG', '683.JPG', '684.JPG', '685.JPG', '686.JPG', '687.JPG', '688.JPG', '689.JPG', '690.JPG', '691.JPG', '692.JPG', '693.JPG', '694.JPG', '695.JPG', '696.JPG', '697.JPG', '698.JPG', '699.JPG', '700.JPG', '701.JPG', '702.JPG', '703.JPG', '704.JPG', '705.JPG', '706.JPG', '707.JPG', '708.JPG', '709.JPG', '710.JPG', '711.JPG', '712.JPG', '713.JPG', '714.JPG', '715.JPG', '716.JPG', '717.JPG', '718.JPG', '719.JPG', '720.JPG', '721.JPG', '722.JPG', '723.JPG', '724.JPG', '725.JPG', '726.JPG', '727.JPG', '728.JPG', '729.JPG', '730.JPG', '731.JPG', '732.JPG', '733.JPG', '734.JPG', '735.JPG', '736.JPG', '737.JPG', '738.JPG', '739.JPG', '740.JPG', '741.JPG', '742.JPG', '743.JPG', '744.JPG', '745.JPG', '746.JPG', '747.JPG', '748.JPG', '749.JPG', '750.JPG', '751.JPG', '752.JPG', '753.JPG', '754.JPG', '755.JPG', '756.JPG', '757.JPG', '758.JPG', '759.JPG', '760.JPG', '761.JPG', '762.JPG', '763.JPG', '764.JPG', '765.JPG', '766.JPG', '767.JPG', '768.JPG', '769.JPG', '770.JPG', '771.JPG', '772.JPG', '773.JPG', '774.JPG', '775.JPG', '776.JPG', '777.JPG', '778.JPG', '779.JPG', '780.JPG', '781.JPG', '782.JPG', '783.JPG', '784.JPG', '785.JPG', '786.JPG', '787.JPG', '788.JPG', '789.JPG', '790.JPG', '791.JPG', '792.JPG', '793.JPG', '794.JPG', '795.JPG', '796.JPG', '797.JPG', '798.JPG', '799.JPG', '800.JPG', '801.JPG', '802.JPG', '803.JPG', '804.JPG', '805.JPG', '806.JPG', '807.JPG', '808.JPG', '809.JPG', '810.JPG', '811.JPG', '812.JPG', '813.JPG', '814.JPG', '815.JPG', '816.JPG', '817.JPG', '818.JPG', '819.JPG', '820.JPG', '821.JPG', '822.JPG', '823.JPG', '824.JPG', '825.JPG', '826.JPG', '827.JPG', '828.JPG', '829.JPG', '830.JPG', '831.JPG', '832.JPG', '833.JPG', '834.JPG', '835.JPG', '836.JPG', '837.JPG', '838.JPG', '839.JPG', '840.JPG', '841.JPG', '842.JPG', '843.JPG', '844.JPG', '845.JPG', '846.JPG', '847.JPG', '848.JPG', '849.JPG', '850.JPG', '851.JPG', '852.JPG', '853.JPG', '854.JPG', '855.JPG', '856.JPG', '857.JPG', '858.JPG', '859.JPG', '860.JPG', '861.JPG', '862.JPG', '863.JPG', '864.JPG', '865.JPG', '866.JPG', '867.JPG', '868.JPG', '869.JPG', '870.JPG', '871.JPG', '872.JPG', '873.JPG', '874.JPG', '875.JPG', '876.JPG', '877.JPG', '878.JPG', '879.JPG', '880.JPG', '881.JPG', '882.JPG', '883.JPG', '884.JPG', '885.JPG', '886.JPG', '887.JPG', '888.JPG', '889.JPG', '890.JPG', '891.JPG', '892.JPG', '893.JPG', '894.JPG', '895.JPG', '896.JPG', '897.JPG', '898.JPG', '899.JPG', '900.JPG', '901.JPG', '902.JPG', '903.JPG', '904.JPG', '905.JPG', '906.JPG', '907.JPG', '908.JPG', '909.JPG', '910.JPG', '911.JPG', '912.JPG', '913.JPG', '914.JPG', '915.JPG', '916.JPG', '917.JPG', '918.JPG', '919.JPG', '920.JPG', '921.JPG', '922.JPG', '923.JPG', '924.JPG', '925.JPG', '926.JPG', '927.JPG', '928.JPG', '929.JPG', '930.JPG', '931.JPG', '932.JPG', '933.JPG', '934.JPG', '935.JPG', '936.JPG', '937.JPG', '938.JPG', '939.JPG', '940.JPG', '941.JPG', '942.JPG', '943.JPG', '944.JPG', '945.JPG', '946.JPG', '947.JPG', '948.JPG', '949.JPG', '950.JPG', '951.JPG', '952.JPG', '953.JPG', '954.JPG', '955.JPG', '956.JPG', '957.JPG', '958.JPG', '959.JPG', '960.JPG', '961.JPG', '962.JPG', '963.JPG', '964.JPG', '965.JPG', '966.JPG', '967.JPG', '968.JPG', '969.JPG', '970.JPG', '971.JPG', '972.JPG', '973.JPG', '974.JPG', '975.JPG', '976.JPG', '977.JPG', '978.JPG', '979.JPG', '980.JPG', '981.JPG', '982.JPG', '983.JPG', '984.JPG', '985.JPG', '986.JPG', '987.JPG', '988.JPG', '989.JPG', '990.JPG', '991.JPG', '992.JPG', '993.JPG', '994.JPG', '995.JPG', '996.JPG', '997.JPG', '998.JPG', '999.JPG', '1000.JPG', '1001.JPG', '1002.JPG', '1003.JPG', '1004.JPG', '1005.JPG', '1006.JPG', '1007.JPG', '1008.JPG', '1009.JPG', '1010.JPG', '1011.JPG', '1012.JPG', '1013.JPG', '1014.JPG', '1015.JPG', '1016.JPG', '1017.JPG', '1018.JPG', '1019.JPG', '1020.JPG', '1021.JPG', '1022.JPG', '1023.JPG', '1024.JPG', '1025.JPG', '1026.JPG', '1027.JPG', '1028.JPG', '1029.JPG', '1030.JPG', '1031.JPG', '1032.JPG', '1033.JPG', '1034.JPG', '1035.JPG', '1036.JPG', '1037.JPG', '1038.JPG', '1039.JPG', '1040.JPG', '1041.JPG', '1042.JPG', '1043.JPG', '1044.JPG', '1045.JPG', '1046.JPG', '1047.JPG', '1048.JPG', '1049.JPG', '1050.JPG', '1051.JPG', '1052.JPG', '1053.JPG', '1054.JPG', '1055.JPG', '1056.JPG', '1057.JPG', '1058.JPG', '1059.JPG', '1060.JPG', '1061.JPG', '1062.JPG', '1063.JPG', '1064.JPG', '1065.JPG', '1066.JPG', '1067.JPG', '1068.JPG', '1069.JPG', '1070.JPG', '1071.JPG', '1072.JPG', '1073.JPG', '1074.JPG', '1075.JPG', '1076.JPG', '1077.JPG', '1078.JPG', '1079.JPG', '1080.JPG', '1081.JPG', '1082.JPG', '1083.JPG', '1084.JPG', '1085.JPG', '1086.JPG', '1087.JPG', '1088.JPG', '1089.JPG', '1090.JPG', '1091.JPG', '1092.JPG', '1093.JPG', '1094.JPG', '1095.JPG', '1096.JPG', '1097.JPG', '1098.JPG', '1099.JPG', '1100.JPG', '1101.JPG', '1102.JPG', '1103.JPG', '1104.JPG', '1105.JPG', '1106.JPG', '1107.JPG', '1108.JPG', '1109.JPG', '1110.JPG', '1111.JPG', '1112.JPG', '1113.JPG', '1114.JPG', '1115.JPG', '1116.JPG', '1117.JPG', '1118.JPG', '1119.JPG', '1120.JPG', '1121.JPG', '1122.JPG', '1123.JPG', '1124.JPG', '1125.JPG', '1126.JPG', '1127.JPG', '1128.JPG', '1129.JPG', '1130.JPG', '1131.JPG', '1132.JPG', '1133.JPG', '1134.JPG', '1135.JPG', '1136.JPG', '1137.JPG', '1138.JPG', '1139.JPG', '1140.JPG', '1141.JPG', '1142.JPG', '1143.JPG', '1144.JPG', '1145.JPG', '1146.JPG', '1147.JPG', '1148.JPG', '1149.JPG', '1150.JPG', '1151.JPG', '1152.JPG', '1153.JPG', '1154.JPG', '1155.JPG', '1156.JPG', '1157.JPG', '1158.JPG', '1159.JPG', '1160.bmp', '1161.bmp', '1162.bmp', '1163.bmp', '1164.bmp']\n"
     ]
    }
   ],
   "source": [
    "# Load AllImages_release.mat file\n",
    "all_images_data = scipy.io.loadmat('dataset/LIVEC/Data/AllImages_release.mat')\n",
    "\n",
    "# Extract the image names\n",
    "all_images = all_images_data['AllImages_release']\n",
    "\n",
    "# Flatten the array and convert to list\n",
    "all_images_list = [img[0] for img in all_images.flatten()]\n",
    "\n",
    "# Remove the first 7 elements to match the MOS values\n",
    "all_images_list = all_images_list[7:1169]\n",
    "\n",
    "print(f\"Number of images: {len(all_images_list)}\")\n",
    "print(\"First 5 image names:\")\n",
    "print(all_images_list)\n",
    "\n",
    "# Verify that the number of images matches the number of MOS values\n"
   ]
  },
  {
   "cell_type": "code",
   "execution_count": 65,
   "metadata": {},
   "outputs": [
    {
     "data": {
      "text/plain": [
       "1162"
      ]
     },
     "execution_count": 65,
     "metadata": {},
     "output_type": "execute_result"
    }
   ],
   "source": [
    "five_categories = []\n",
    "\n",
    "for i in mos_array:\n",
    "    if 0< i < 20:\n",
    "        five_categories.append(0)\n",
    "    if 20< i < 40:\n",
    "        five_categories.append(1)\n",
    "    if 40< i < 60:\n",
    "        five_categories.append(2)\n",
    "    if 60< i < 80:\n",
    "        five_categories.append(3)\n",
    "    if 80< i < 100:\n",
    "        five_categories.append(4)\n",
    "\n",
    "\n",
    "\n",
    "len(five_categories)"
   ]
  },
  {
   "cell_type": "code",
   "execution_count": 9,
   "metadata": {},
   "outputs": [
    {
     "data": {
      "text/plain": [
       "1162"
      ]
     },
     "execution_count": 9,
     "metadata": {},
     "output_type": "execute_result"
    }
   ],
   "source": [
    "three_categories = []\n",
    "\n",
    "for i in mos_array:\n",
    "    if 0< i < 20:\n",
    "        three_categories.append(0)\n",
    "    if 20< i < 80:\n",
    "        three_categories.append(1)\n",
    "    if 80< i < 100:\n",
    "        three_categories.append(2)\n",
    "\n",
    "        \n",
    "len(three_categories) \n"
   ]
  },
  {
   "cell_type": "code",
   "execution_count": 21,
   "metadata": {},
   "outputs": [
    {
     "name": "stderr",
     "output_type": "stream",
     "text": [
      "  0%|          | 0/1162 [00:00<?, ?it/s]"
     ]
    },
    {
     "name": "stderr",
     "output_type": "stream",
     "text": [
      "100%|██████████| 1162/1162 [09:37<00:00,  2.01it/s]\n"
     ]
    }
   ],
   "source": [
    "import numpy as np\n",
    "import tqdm\n",
    "import random\n",
    "\n",
    "\n",
    "\n",
    "\n",
    "lq_features = []\n",
    "diff_feature = []\n",
    "all_features = []\n",
    "dists = []\n",
    "conts = []\n",
    "\n",
    "\n",
    "for c in tqdm.tqdm(all_images_list):\n",
    "    dd = obj_org.test(\"dataset/LIVEC/Images/\"+c , get_random_HR_images(), feature_extraction=True)\n",
    "    all_features.append(dd)\n",
    "    lq_features.append(dd[:256])\n",
    "    diff_feature.append(dd[256:])\n",
    "        \n",
    "    \n",
    "\n",
    "\n",
    "    \n",
    "\n",
    "\n",
    "\n",
    "lq_features = np.array(lq_features)\n",
    "diff_feature = np.array(diff_feature)\n",
    "all_features = np.array(all_features)"
   ]
  },
  {
   "cell_type": "code",
   "execution_count": 26,
   "metadata": {},
   "outputs": [],
   "source": [
    "from sklearn.preprocessing import StandardScaler\n",
    "from sklearn.pipeline import Pipeline\n",
    "from sklearn.decomposition import PCA\n",
    "import matplotlib.pyplot as plt\n",
    "\n",
    "pca = PCA(n_components = 2)\n",
    "pipe = Pipeline([('scaler', StandardScaler()), ('pca', pca)])\n",
    "Xt = pipe.fit_transform(diff_feature)\n"
   ]
  },
  {
   "cell_type": "code",
   "execution_count": 27,
   "metadata": {},
   "outputs": [
    {
     "name": "stderr",
     "output_type": "stream",
     "text": [
      "c:\\Users\\Farhad\\.conda\\envs\\gpu\\lib\\site-packages\\seaborn\\regression.py:598: UserWarning: legend_out is deprecated from the `lmplot` function signature. Please update your code to pass it using `facet_kws`.\n",
      "  warnings.warn(msg, UserWarning)\n"
     ]
    },
    {
     "data": {
      "image/png": "[encoded data removed]",
      "text/plain": [
       "<Figure size 608.861x500 with 1 Axes>"
      ]
     },
     "metadata": {},
     "output_type": "display_data"
    }
   ],
   "source": [
    "import pandas as pd\n",
    "import numpy as np\n",
    "import random \n",
    "from matplotlib import pyplot as plt \n",
    "import seaborn as sns \n",
    "\n",
    "\n",
    "\n",
    "df = pd.DataFrame({'quality':three_categories,\n",
    "               '1': Xt[:,0] ,\n",
    "               '2': Xt[:,1],\n",
    "               })\n",
    "\n",
    "# sns.lmplot(x='1' , y='2', data=df, hue='distortion',palette='hls', fit_reg=False, aspect=1.1, legend_out=False,scatter_kws={\"s\": 5})\n",
    "df = df[df['quality'] != 1]\n",
    "sns.lmplot(x='1' , y='2', data=df, hue='quality',palette='hls', fit_reg=False, aspect=1.1, legend_out=True,scatter_kws={\"s\": 5}).set(title='PCA of Diff Features')\n",
    "# plt.legend(loc='upper right', fontsize='small')\n",
    "# Remove data where quality is 1\n",
    "\n",
    "# Update the plot with the filtered data\n",
    "# sns.lmplot(x='1', y='2', data=df, hue='quality', palette='hls', fit_reg=False, aspect=1.1, legend_out=True, scatter_kws={\"s\": 5}).set(title='PCA of LQ Features (Excluding Quality 1)')\n",
    "\n",
    "\n",
    "plt.show()"
   ]
  },
  {
   "cell_type": "code",
   "execution_count": 30,
   "metadata": {},
   "outputs": [
    {
     "name": "stderr",
     "output_type": "stream",
     "text": [
      "c:\\Users\\Farhad\\.conda\\envs\\gpu\\lib\\site-packages\\seaborn\\regression.py:598: UserWarning: legend_out is deprecated from the `lmplot` function signature. Please update your code to pass it using `facet_kws`.\n",
      "  warnings.warn(msg, UserWarning)\n"
     ]
    },
    {
     "data": {
      "image/png": "[encoded data removed]",
      "text/plain": [
       "<Figure size 608.861x500 with 1 Axes>"
      ]
     },
     "metadata": {},
     "output_type": "display_data"
    }
   ],
   "source": [
    "from sklearn.manifold import TSNE\n",
    "X_embedded = TSNE(n_components=2, learning_rate='auto',init='random', perplexity=3).fit_transform(lq_features)\n",
    "\n",
    "import pandas as pd\n",
    "import numpy as np\n",
    "import random \n",
    "from matplotlib import pyplot as plt \n",
    "import seaborn as sns \n",
    "\n",
    "np.random.seed(176)\n",
    "random.seed(16)\n",
    "df = pd.DataFrame({'quality':three_categories,\n",
    "               '1': X_embedded[:,0] ,\n",
    "               '2': X_embedded[:,1],\n",
    "               })\n",
    "\n",
    "df = df[df['quality'] != 1]\n",
    "sns.lmplot(x='1' , y='2', data=df, hue='quality',palette='hls', fit_reg=False, aspect=1.1, legend_out=True,scatter_kws={\"s\": 5}).set(title='t-SNE of LQ Features')\n",
    "\n",
    "plt.show()"
   ]
  }
 ],
 "metadata": {
  "kernelspec": {
   "display_name": "gputest",
   "language": "python",
   "name": "python3"
  },
  "language_info": {
   "codemirror_mode": {
    "name": "ipython",
    "version": 3
   },
   "file_extension": ".py",
   "mimetype": "text/x-python",
   "name": "python",
   "nbconvert_exporter": "python",
   "pygments_lexer": "ipython3",
   "version": "3.9.18"
  },
  "orig_nbformat": 4
 },
 "nbformat": 4,
 "nbformat_minor": 2
}
